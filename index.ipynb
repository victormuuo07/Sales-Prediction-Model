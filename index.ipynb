{
 "cells": [
  {
   "cell_type": "code",
   "execution_count": 243,
   "metadata": {},
   "outputs": [],
   "source": [
    "import pandas as pd\n",
    "import numpy as np\n",
    "import matplotlib.pyplot as plt\n",
    "%matplotlib inline"
   ]
  },
  {
   "cell_type": "markdown",
   "metadata": {},
   "source": [
    "## **Import Dataset**"
   ]
  },
  {
   "cell_type": "code",
   "execution_count": 244,
   "metadata": {},
   "outputs": [
    {
     "data": {
      "text/html": [
       "<div>\n",
       "<style scoped>\n",
       "    .dataframe tbody tr th:only-of-type {\n",
       "        vertical-align: middle;\n",
       "    }\n",
       "\n",
       "    .dataframe tbody tr th {\n",
       "        vertical-align: top;\n",
       "    }\n",
       "\n",
       "    .dataframe thead th {\n",
       "        text-align: right;\n",
       "    }\n",
       "</style>\n",
       "<table border=\"1\" class=\"dataframe\">\n",
       "  <thead>\n",
       "    <tr style=\"text-align: right;\">\n",
       "      <th></th>\n",
       "      <th>transactions_id</th>\n",
       "      <th>sale_date</th>\n",
       "      <th>sale_time</th>\n",
       "      <th>customer_id</th>\n",
       "      <th>gender</th>\n",
       "      <th>age</th>\n",
       "      <th>category</th>\n",
       "      <th>quantiy</th>\n",
       "      <th>price_per_unit</th>\n",
       "      <th>cogs</th>\n",
       "      <th>total_sale</th>\n",
       "    </tr>\n",
       "  </thead>\n",
       "  <tbody>\n",
       "    <tr>\n",
       "      <th>0</th>\n",
       "      <td>180</td>\n",
       "      <td>2022-11-05</td>\n",
       "      <td>10:47:00</td>\n",
       "      <td>117</td>\n",
       "      <td>Male</td>\n",
       "      <td>41.0</td>\n",
       "      <td>Clothing</td>\n",
       "      <td>3.0</td>\n",
       "      <td>300.0</td>\n",
       "      <td>129.0</td>\n",
       "      <td>900.0</td>\n",
       "    </tr>\n",
       "    <tr>\n",
       "      <th>1</th>\n",
       "      <td>522</td>\n",
       "      <td>2022-07-09</td>\n",
       "      <td>11:00:00</td>\n",
       "      <td>52</td>\n",
       "      <td>Male</td>\n",
       "      <td>46.0</td>\n",
       "      <td>Beauty</td>\n",
       "      <td>3.0</td>\n",
       "      <td>500.0</td>\n",
       "      <td>145.0</td>\n",
       "      <td>1500.0</td>\n",
       "    </tr>\n",
       "    <tr>\n",
       "      <th>2</th>\n",
       "      <td>559</td>\n",
       "      <td>2022-12-12</td>\n",
       "      <td>10:48:00</td>\n",
       "      <td>5</td>\n",
       "      <td>Female</td>\n",
       "      <td>40.0</td>\n",
       "      <td>Clothing</td>\n",
       "      <td>4.0</td>\n",
       "      <td>300.0</td>\n",
       "      <td>84.0</td>\n",
       "      <td>1200.0</td>\n",
       "    </tr>\n",
       "    <tr>\n",
       "      <th>3</th>\n",
       "      <td>1180</td>\n",
       "      <td>2022-01-06</td>\n",
       "      <td>08:53:00</td>\n",
       "      <td>85</td>\n",
       "      <td>Male</td>\n",
       "      <td>41.0</td>\n",
       "      <td>Clothing</td>\n",
       "      <td>3.0</td>\n",
       "      <td>300.0</td>\n",
       "      <td>129.0</td>\n",
       "      <td>900.0</td>\n",
       "    </tr>\n",
       "    <tr>\n",
       "      <th>4</th>\n",
       "      <td>1522</td>\n",
       "      <td>2022-11-14</td>\n",
       "      <td>08:35:00</td>\n",
       "      <td>48</td>\n",
       "      <td>Male</td>\n",
       "      <td>46.0</td>\n",
       "      <td>Beauty</td>\n",
       "      <td>3.0</td>\n",
       "      <td>500.0</td>\n",
       "      <td>235.0</td>\n",
       "      <td>1500.0</td>\n",
       "    </tr>\n",
       "  </tbody>\n",
       "</table>\n",
       "</div>"
      ],
      "text/plain": [
       "   transactions_id   sale_date sale_time  customer_id  gender   age  category  \\\n",
       "0              180  2022-11-05  10:47:00          117    Male  41.0  Clothing   \n",
       "1              522  2022-07-09  11:00:00           52    Male  46.0    Beauty   \n",
       "2              559  2022-12-12  10:48:00            5  Female  40.0  Clothing   \n",
       "3             1180  2022-01-06  08:53:00           85    Male  41.0  Clothing   \n",
       "4             1522  2022-11-14  08:35:00           48    Male  46.0    Beauty   \n",
       "\n",
       "   quantiy  price_per_unit   cogs  total_sale  \n",
       "0      3.0           300.0  129.0       900.0  \n",
       "1      3.0           500.0  145.0      1500.0  \n",
       "2      4.0           300.0   84.0      1200.0  \n",
       "3      3.0           300.0  129.0       900.0  \n",
       "4      3.0           500.0  235.0      1500.0  "
      ]
     },
     "execution_count": 244,
     "metadata": {},
     "output_type": "execute_result"
    }
   ],
   "source": [
    "df = pd.read_csv('data/sales.csv')\n",
    "df.head()"
   ]
  },
  {
   "cell_type": "markdown",
   "metadata": {},
   "source": [
    "## Explatory Data Analysis"
   ]
  },
  {
   "cell_type": "code",
   "execution_count": 245,
   "metadata": {},
   "outputs": [
    {
     "data": {
      "text/plain": [
       "(2000, 11)"
      ]
     },
     "execution_count": 245,
     "metadata": {},
     "output_type": "execute_result"
    }
   ],
   "source": [
    "df.shape"
   ]
  },
  {
   "cell_type": "code",
   "execution_count": 246,
   "metadata": {},
   "outputs": [
    {
     "name": "stdout",
     "output_type": "stream",
     "text": [
      "<class 'pandas.core.frame.DataFrame'>\n",
      "RangeIndex: 2000 entries, 0 to 1999\n",
      "Data columns (total 11 columns):\n",
      " #   Column           Non-Null Count  Dtype  \n",
      "---  ------           --------------  -----  \n",
      " 0   transactions_id  2000 non-null   int64  \n",
      " 1   sale_date        2000 non-null   object \n",
      " 2   sale_time        2000 non-null   object \n",
      " 3   customer_id      2000 non-null   int64  \n",
      " 4   gender           2000 non-null   object \n",
      " 5   age              1990 non-null   float64\n",
      " 6   category         2000 non-null   object \n",
      " 7   quantiy          1997 non-null   float64\n",
      " 8   price_per_unit   1997 non-null   float64\n",
      " 9   cogs             1997 non-null   float64\n",
      " 10  total_sale       1997 non-null   float64\n",
      "dtypes: float64(5), int64(2), object(4)\n",
      "memory usage: 172.0+ KB\n"
     ]
    }
   ],
   "source": [
    "df.info()"
   ]
  },
  {
   "cell_type": "markdown",
   "metadata": {},
   "source": [
    "## Types of variables  \n",
    "\n",
    "In this section, I separate the dataset into categorical and numerical variables."
   ]
  },
  {
   "cell_type": "code",
   "execution_count": 247,
   "metadata": {},
   "outputs": [
    {
     "name": "stdout",
     "output_type": "stream",
     "text": [
      "There are 4 categorical variables\n",
      "\n",
      "The categorical variables are : ['sale_date', 'sale_time', 'gender', 'category']\n"
     ]
    }
   ],
   "source": [
    "# find categorical variables\n",
    "\n",
    "categorical = [var for var in df.columns if df[var].dtype=='O']\n",
    "\n",
    "print('There are {} categorical variables\\n'.format(len(categorical)))\n",
    "\n",
    "print('The categorical variables are :', categorical)"
   ]
  },
  {
   "cell_type": "code",
   "execution_count": 248,
   "metadata": {},
   "outputs": [
    {
     "data": {
      "text/html": [
       "<div>\n",
       "<style scoped>\n",
       "    .dataframe tbody tr th:only-of-type {\n",
       "        vertical-align: middle;\n",
       "    }\n",
       "\n",
       "    .dataframe tbody tr th {\n",
       "        vertical-align: top;\n",
       "    }\n",
       "\n",
       "    .dataframe thead th {\n",
       "        text-align: right;\n",
       "    }\n",
       "</style>\n",
       "<table border=\"1\" class=\"dataframe\">\n",
       "  <thead>\n",
       "    <tr style=\"text-align: right;\">\n",
       "      <th></th>\n",
       "      <th>sale_date</th>\n",
       "      <th>sale_time</th>\n",
       "      <th>gender</th>\n",
       "      <th>category</th>\n",
       "    </tr>\n",
       "  </thead>\n",
       "  <tbody>\n",
       "    <tr>\n",
       "      <th>0</th>\n",
       "      <td>2022-11-05</td>\n",
       "      <td>10:47:00</td>\n",
       "      <td>Male</td>\n",
       "      <td>Clothing</td>\n",
       "    </tr>\n",
       "    <tr>\n",
       "      <th>1</th>\n",
       "      <td>2022-07-09</td>\n",
       "      <td>11:00:00</td>\n",
       "      <td>Male</td>\n",
       "      <td>Beauty</td>\n",
       "    </tr>\n",
       "    <tr>\n",
       "      <th>2</th>\n",
       "      <td>2022-12-12</td>\n",
       "      <td>10:48:00</td>\n",
       "      <td>Female</td>\n",
       "      <td>Clothing</td>\n",
       "    </tr>\n",
       "    <tr>\n",
       "      <th>3</th>\n",
       "      <td>2022-01-06</td>\n",
       "      <td>08:53:00</td>\n",
       "      <td>Male</td>\n",
       "      <td>Clothing</td>\n",
       "    </tr>\n",
       "    <tr>\n",
       "      <th>4</th>\n",
       "      <td>2022-11-14</td>\n",
       "      <td>08:35:00</td>\n",
       "      <td>Male</td>\n",
       "      <td>Beauty</td>\n",
       "    </tr>\n",
       "  </tbody>\n",
       "</table>\n",
       "</div>"
      ],
      "text/plain": [
       "    sale_date sale_time  gender  category\n",
       "0  2022-11-05  10:47:00    Male  Clothing\n",
       "1  2022-07-09  11:00:00    Male    Beauty\n",
       "2  2022-12-12  10:48:00  Female  Clothing\n",
       "3  2022-01-06  08:53:00    Male  Clothing\n",
       "4  2022-11-14  08:35:00    Male    Beauty"
      ]
     },
     "execution_count": 248,
     "metadata": {},
     "output_type": "execute_result"
    }
   ],
   "source": [
    "df_categorical = df[categorical].copy()\n",
    "df_categorical.head()"
   ]
  },
  {
   "cell_type": "code",
   "execution_count": 249,
   "metadata": {},
   "outputs": [
    {
     "data": {
      "text/plain": [
       "sale_date    0\n",
       "sale_time    0\n",
       "gender       0\n",
       "category     0\n",
       "dtype: int64"
      ]
     },
     "execution_count": 249,
     "metadata": {},
     "output_type": "execute_result"
    }
   ],
   "source": [
    "df_categorical.isnull().sum()"
   ]
  },
  {
   "cell_type": "code",
   "execution_count": 250,
   "metadata": {},
   "outputs": [
    {
     "name": "stdout",
     "output_type": "stream",
     "text": [
      "   sale_date sale_time\n",
      "0 2022-11-05  10:47:00\n",
      "1 2022-07-09  11:00:00\n",
      "2 2022-12-12  10:48:00\n",
      "3 2022-01-06  08:53:00\n",
      "4 2022-11-14  08:35:00\n"
     ]
    }
   ],
   "source": [
    "# Convert 'sale_date' to datetime format\n",
    "df_categorical['sale_date'] = pd.to_datetime(df_categorical['sale_date'], format='%Y-%m-%d')\n",
    "\n",
    "# Convert 'sale_time' to time format\n",
    "df_categorical['sale_time'] = pd.to_datetime(df_categorical['sale_time'], format='%H:%M:%S').dt.time\n",
    "\n",
    "# Check if the conversions were successful\n",
    "print(df_categorical[['sale_date', 'sale_time']].head())\n"
   ]
  },
  {
   "cell_type": "code",
   "execution_count": 251,
   "metadata": {},
   "outputs": [
    {
     "name": "stdout",
     "output_type": "stream",
     "text": [
      "Earliest sale date: 2022-01-01 00:00:00\n",
      "Latest sale date: 2023-12-31 00:00:00\n"
     ]
    },
    {
     "data": {
      "image/png": "[encoded data removed]",
      "text/plain": [
       "<Figure size 1000x600 with 1 Axes>"
      ]
     },
     "metadata": {},
     "output_type": "display_data"
    }
   ],
   "source": [
    "# Check for the range of dates\n",
    "print(f\"Earliest sale date: {df_categorical['sale_date'].min()}\")\n",
    "print(f\"Latest sale date: {df_categorical['sale_date'].max()}\")\n",
    "\n",
    "# Optional: Plot sales over time to visually inspect outliers\n",
    "import matplotlib.pyplot as plt\n",
    "\n",
    "df_categorical['sale_date'].value_counts().sort_index().plot(kind='line', figsize=(10,6))\n",
    "plt.title('Sales by Date')\n",
    "plt.xlabel('Date')\n",
    "plt.ylabel('Number of Sales')\n",
    "plt.show()\n"
   ]
  },
  {
   "cell_type": "markdown",
   "metadata": {},
   "source": [
    "**Seasonal or Periodic Trends:**  \n",
    "\n",
    "    There is a noticeable increase in the number of sales between September 2022 and February 2023, peaking around the end of 2022 and early 2023. This could indicate seasonal demand or holiday-related shopping trends, such as Black Friday, Christmas, and New Year sales.  \n",
    "\n",
    "    After February 2023, the sales drop significantly before slowly picking up again towards October 2023, which may indicate a cyclical or seasonal pattern, perhaps due to promotions or events in certain months.   \n",
    "\n",
    "**Periods of Low Sales:**\n",
    "\n",
    "    There are distinct periods where sales activity is very low, particularly between April 2023 and July 2023. This could be due to off-peak seasons, economic factors, or lack of promotions during this time.   \n",
    "\n",
    "**Sales Spikes:**   \n",
    "\n",
    "    The sharp spikes, especially in January 2023 and October 2023, suggest brief periods of higher-than-normal activity. These spikes could be caused by flash sales, limited-time offers, or specific events like holidays or back-to-school periods.   \n",
    "\n",
    "**Recent Activity:**  \n",
    "\n",
    "    Sales seem to pick up again in October 2023 and continue with some volatility towards the end of the year. It indicates that sales in this period might be rising again as businesses prepare for the holiday season.\n",
    "\n",
    "\n",
    "**Potential Actions Based on the Visualization:**  \n",
    "\n",
    "**1. Plan Promotions Around Peak Periods:**  \n",
    "\n",
    "    If certain months like December/January or October/November consistently show higher sales, you can focus marketing campaigns and promotions around these times to maximize profit.  \n",
    "\n",
    "**2. Investigate Low-Activity Months:**  \n",
    "\n",
    "    The period from April to July 2023 shows reduced sales. It may be worth investigating why this is happening. Are there fewer promotions? Is this an off-season for certain products?  \n",
    "\n",
    "**3. Leverage Holiday Season:**  \n",
    "\n",
    "    The sales surge around the holiday period (late 2022, early 2023) indicates that customers may respond positively to promotions during this time. Adjust pricing, stock, and marketing to capitalize on holiday shopping trends.  "
   ]
  },
  {
   "cell_type": "markdown",
   "metadata": {},
   "source": [
    "### Group the Sales by months"
   ]
  },
  {
   "cell_type": "code",
   "execution_count": 252,
   "metadata": {},
   "outputs": [
    {
     "data": {
      "image/png": "[encoded data removed]",
      "text/plain": [
       "<Figure size 1000x600 with 1 Axes>"
      ]
     },
     "metadata": {},
     "output_type": "display_data"
    }
   ],
   "source": [
    "# Convert 'sale_date' to datetime if not already done\n",
    "df_categorical['sale_date'] = pd.to_datetime(df_categorical['sale_date'])\n",
    "\n",
    "# Extract the month and year for easier grouping\n",
    "df_categorical['month_year'] = df_categorical['sale_date'].dt.to_period('M')\n",
    "\n",
    "# Group by month and count the number of sales per month\n",
    "monthly_sales = df.groupby(df_categorical['month_year'])['transactions_id'].count()\n",
    "\n",
    "# Plotting monthly sales\n",
    "plt.figure(figsize=(10, 6))\n",
    "monthly_sales.plot(kind='bar', color='skyblue')\n",
    "plt.title('Sales by Month')\n",
    "plt.xlabel('Month-Year')\n",
    "plt.ylabel('Number of Sales')\n",
    "plt.xticks(rotation=45)\n",
    "plt.show()\n"
   ]
  },
  {
   "cell_type": "markdown",
   "metadata": {},
   "source": [
    "**Peak Sales Periods:**  \n",
    "\n",
    "    1. August 2022 to January 2023: This period shows a notable rise in sales, with October and December 2022 having the highest sales volumes. This could be due to:  \n",
    "\n",
    "    * Holiday seasons (like Christmas in December).  \n",
    "    * Seasonal promotions or events.*  \n",
    "\n",
    "    2. August to November 2023: Another noticeable peak in sales occurs in these months, which may follow a similar trend as the previous year (perhaps annual promotions or a recurring shopping event).  \n",
    "\n",
    "**Low Sales Periods:**  \n",
    "\n",
    "    The lowest sales volumes occur between February 2023 and May 2023. This might indicate an off-peak season where fewer promotions or events take place. Further analysis of external factors, like economic conditions or seasonal trends, could provide more insights.\n",
    "**Observations:**  \n",
    "\n",
    "    Recurring Peaks: August to December seems to consistently have high sales, suggesting these months are crucial for business.\n",
    "    Off-Peak Months: Between February and May, the business appears to slow down, perhaps requiring targeted promotions or campaigns to improve sales during these months.\n",
    "**Further Analysis:**\n",
    "\n",
    "    We could analyze specific product categories and customer segments during these high and low periods to see what drives the peaks and dips.\n",
    "    It would also be useful to look at the average transaction value to see if these high-sales months also correspond to higher revenue per sale."
   ]
  },
  {
   "cell_type": "code",
   "execution_count": 253,
   "metadata": {},
   "outputs": [
    {
     "data": {
      "text/html": [
       "<div>\n",
       "<style scoped>\n",
       "    .dataframe tbody tr th:only-of-type {\n",
       "        vertical-align: middle;\n",
       "    }\n",
       "\n",
       "    .dataframe tbody tr th {\n",
       "        vertical-align: top;\n",
       "    }\n",
       "\n",
       "    .dataframe thead th {\n",
       "        text-align: right;\n",
       "    }\n",
       "</style>\n",
       "<table border=\"1\" class=\"dataframe\">\n",
       "  <thead>\n",
       "    <tr style=\"text-align: right;\">\n",
       "      <th></th>\n",
       "      <th>sale_date</th>\n",
       "      <th>sale_time</th>\n",
       "      <th>gender</th>\n",
       "      <th>category</th>\n",
       "      <th>month_year</th>\n",
       "    </tr>\n",
       "  </thead>\n",
       "  <tbody>\n",
       "    <tr>\n",
       "      <th>0</th>\n",
       "      <td>2022-11-05</td>\n",
       "      <td>10:47:00</td>\n",
       "      <td>Male</td>\n",
       "      <td>Clothing</td>\n",
       "      <td>2022-11</td>\n",
       "    </tr>\n",
       "    <tr>\n",
       "      <th>1</th>\n",
       "      <td>2022-07-09</td>\n",
       "      <td>11:00:00</td>\n",
       "      <td>Male</td>\n",
       "      <td>Beauty</td>\n",
       "      <td>2022-07</td>\n",
       "    </tr>\n",
       "    <tr>\n",
       "      <th>2</th>\n",
       "      <td>2022-12-12</td>\n",
       "      <td>10:48:00</td>\n",
       "      <td>Female</td>\n",
       "      <td>Clothing</td>\n",
       "      <td>2022-12</td>\n",
       "    </tr>\n",
       "    <tr>\n",
       "      <th>3</th>\n",
       "      <td>2022-01-06</td>\n",
       "      <td>08:53:00</td>\n",
       "      <td>Male</td>\n",
       "      <td>Clothing</td>\n",
       "      <td>2022-01</td>\n",
       "    </tr>\n",
       "    <tr>\n",
       "      <th>4</th>\n",
       "      <td>2022-11-14</td>\n",
       "      <td>08:35:00</td>\n",
       "      <td>Male</td>\n",
       "      <td>Beauty</td>\n",
       "      <td>2022-11</td>\n",
       "    </tr>\n",
       "  </tbody>\n",
       "</table>\n",
       "</div>"
      ],
      "text/plain": [
       "   sale_date sale_time  gender  category month_year\n",
       "0 2022-11-05  10:47:00    Male  Clothing    2022-11\n",
       "1 2022-07-09  11:00:00    Male    Beauty    2022-07\n",
       "2 2022-12-12  10:48:00  Female  Clothing    2022-12\n",
       "3 2022-01-06  08:53:00    Male  Clothing    2022-01\n",
       "4 2022-11-14  08:35:00    Male    Beauty    2022-11"
      ]
     },
     "execution_count": 253,
     "metadata": {},
     "output_type": "execute_result"
    }
   ],
   "source": [
    "df_categorical.head()"
   ]
  },
  {
   "cell_type": "code",
   "execution_count": 254,
   "metadata": {},
   "outputs": [
    {
     "name": "stdout",
     "output_type": "stream",
     "text": [
      "<class 'pandas.core.frame.DataFrame'>\n",
      "RangeIndex: 2000 entries, 0 to 1999\n",
      "Data columns (total 5 columns):\n",
      " #   Column      Non-Null Count  Dtype         \n",
      "---  ------      --------------  -----         \n",
      " 0   sale_date   2000 non-null   datetime64[ns]\n",
      " 1   sale_time   2000 non-null   object        \n",
      " 2   gender      2000 non-null   object        \n",
      " 3   category    2000 non-null   object        \n",
      " 4   month_year  2000 non-null   period[M]     \n",
      "dtypes: datetime64[ns](1), object(3), period[M](1)\n",
      "memory usage: 78.3+ KB\n"
     ]
    }
   ],
   "source": [
    "df_categorical.info()"
   ]
  },
  {
   "cell_type": "code",
   "execution_count": 255,
   "metadata": {},
   "outputs": [],
   "source": [
    "df_categorical['sale_time'] = pd.to_datetime(df_categorical['sale_time'], format='%H:%M:%S').dt.time"
   ]
  },
  {
   "cell_type": "code",
   "execution_count": 256,
   "metadata": {},
   "outputs": [
    {
     "name": "stdout",
     "output_type": "stream",
     "text": [
      "  sale_time\n",
      "0  10:47:00\n",
      "1  11:00:00\n",
      "2  10:48:00\n",
      "3  08:53:00\n",
      "4  08:35:00\n"
     ]
    }
   ],
   "source": [
    "# Display the first few rows to verify\n",
    "print(df_categorical[['sale_time']].head())"
   ]
  },
  {
   "cell_type": "code",
   "execution_count": 257,
   "metadata": {},
   "outputs": [
    {
     "name": "stdout",
     "output_type": "stream",
     "text": [
      "  sale_time  hour\n",
      "0  10:47:00    10\n",
      "1  11:00:00    11\n",
      "2  10:48:00    10\n",
      "3  08:53:00     8\n",
      "4  08:35:00     8\n"
     ]
    }
   ],
   "source": [
    "# Extract the hour and create a new 'hour' column\n",
    "df_categorical['hour'] = pd.to_datetime(df_categorical['sale_time'], format='%H:%M:%S').dt.hour\n",
    "\n",
    "# Display the first few rows to verify the new 'hour' column\n",
    "print(df_categorical[['sale_time', 'hour']].head())\n"
   ]
  },
  {
   "cell_type": "code",
   "execution_count": 258,
   "metadata": {},
   "outputs": [],
   "source": [
    "df_categorical.drop('sale_time',axis=1, inplace=True)"
   ]
  },
  {
   "cell_type": "code",
   "execution_count": 259,
   "metadata": {},
   "outputs": [
    {
     "data": {
      "text/plain": [
       "gender\n",
       "Female    1020\n",
       "Male       980\n",
       "Name: count, dtype: int64"
      ]
     },
     "execution_count": 259,
     "metadata": {},
     "output_type": "execute_result"
    }
   ],
   "source": [
    "df_categorical['gender'].value_counts()"
   ]
  },
  {
   "cell_type": "code",
   "execution_count": 260,
   "metadata": {},
   "outputs": [
    {
     "data": {
      "text/plain": [
       "category\n",
       "Clothing       702\n",
       "Electronics    684\n",
       "Beauty         614\n",
       "Name: count, dtype: int64"
      ]
     },
     "execution_count": 260,
     "metadata": {},
     "output_type": "execute_result"
    }
   ],
   "source": [
    "df_categorical['category'].value_counts()"
   ]
  },
  {
   "cell_type": "markdown",
   "metadata": {},
   "source": [
    "### One-Hot-Encoding"
   ]
  },
  {
   "cell_type": "code",
   "execution_count": 261,
   "metadata": {},
   "outputs": [
    {
     "data": {
      "text/html": [
       "<div>\n",
       "<style scoped>\n",
       "    .dataframe tbody tr th:only-of-type {\n",
       "        vertical-align: middle;\n",
       "    }\n",
       "\n",
       "    .dataframe tbody tr th {\n",
       "        vertical-align: top;\n",
       "    }\n",
       "\n",
       "    .dataframe thead th {\n",
       "        text-align: right;\n",
       "    }\n",
       "</style>\n",
       "<table border=\"1\" class=\"dataframe\">\n",
       "  <thead>\n",
       "    <tr style=\"text-align: right;\">\n",
       "      <th></th>\n",
       "      <th>Beauty</th>\n",
       "      <th>Clothing</th>\n",
       "      <th>Electronics</th>\n",
       "    </tr>\n",
       "  </thead>\n",
       "  <tbody>\n",
       "    <tr>\n",
       "      <th>0</th>\n",
       "      <td>0</td>\n",
       "      <td>1</td>\n",
       "      <td>0</td>\n",
       "    </tr>\n",
       "    <tr>\n",
       "      <th>1</th>\n",
       "      <td>1</td>\n",
       "      <td>0</td>\n",
       "      <td>0</td>\n",
       "    </tr>\n",
       "    <tr>\n",
       "      <th>2</th>\n",
       "      <td>0</td>\n",
       "      <td>1</td>\n",
       "      <td>0</td>\n",
       "    </tr>\n",
       "    <tr>\n",
       "      <th>3</th>\n",
       "      <td>0</td>\n",
       "      <td>1</td>\n",
       "      <td>0</td>\n",
       "    </tr>\n",
       "    <tr>\n",
       "      <th>4</th>\n",
       "      <td>1</td>\n",
       "      <td>0</td>\n",
       "      <td>0</td>\n",
       "    </tr>\n",
       "    <tr>\n",
       "      <th>...</th>\n",
       "      <td>...</td>\n",
       "      <td>...</td>\n",
       "      <td>...</td>\n",
       "    </tr>\n",
       "    <tr>\n",
       "      <th>1995</th>\n",
       "      <td>0</td>\n",
       "      <td>0</td>\n",
       "      <td>1</td>\n",
       "    </tr>\n",
       "    <tr>\n",
       "      <th>1996</th>\n",
       "      <td>1</td>\n",
       "      <td>0</td>\n",
       "      <td>0</td>\n",
       "    </tr>\n",
       "    <tr>\n",
       "      <th>1997</th>\n",
       "      <td>0</td>\n",
       "      <td>0</td>\n",
       "      <td>1</td>\n",
       "    </tr>\n",
       "    <tr>\n",
       "      <th>1998</th>\n",
       "      <td>1</td>\n",
       "      <td>0</td>\n",
       "      <td>0</td>\n",
       "    </tr>\n",
       "    <tr>\n",
       "      <th>1999</th>\n",
       "      <td>0</td>\n",
       "      <td>0</td>\n",
       "      <td>1</td>\n",
       "    </tr>\n",
       "  </tbody>\n",
       "</table>\n",
       "<p>2000 rows × 3 columns</p>\n",
       "</div>"
      ],
      "text/plain": [
       "      Beauty  Clothing  Electronics\n",
       "0          0         1            0\n",
       "1          1         0            0\n",
       "2          0         1            0\n",
       "3          0         1            0\n",
       "4          1         0            0\n",
       "...      ...       ...          ...\n",
       "1995       0         0            1\n",
       "1996       1         0            0\n",
       "1997       0         0            1\n",
       "1998       1         0            0\n",
       "1999       0         0            1\n",
       "\n",
       "[2000 rows x 3 columns]"
      ]
     },
     "execution_count": 261,
     "metadata": {},
     "output_type": "execute_result"
    }
   ],
   "source": [
    "pd.get_dummies(df_categorical['category'], drop_first=False, dtype='int')\n",
    "\n"
   ]
  },
  {
   "cell_type": "code",
   "execution_count": 262,
   "metadata": {},
   "outputs": [
    {
     "data": {
      "text/html": [
       "<div>\n",
       "<style scoped>\n",
       "    .dataframe tbody tr th:only-of-type {\n",
       "        vertical-align: middle;\n",
       "    }\n",
       "\n",
       "    .dataframe tbody tr th {\n",
       "        vertical-align: top;\n",
       "    }\n",
       "\n",
       "    .dataframe thead th {\n",
       "        text-align: right;\n",
       "    }\n",
       "</style>\n",
       "<table border=\"1\" class=\"dataframe\">\n",
       "  <thead>\n",
       "    <tr style=\"text-align: right;\">\n",
       "      <th></th>\n",
       "      <th>sale_date</th>\n",
       "      <th>gender</th>\n",
       "      <th>category</th>\n",
       "      <th>month_year</th>\n",
       "      <th>hour</th>\n",
       "    </tr>\n",
       "  </thead>\n",
       "  <tbody>\n",
       "    <tr>\n",
       "      <th>0</th>\n",
       "      <td>2022-11-05</td>\n",
       "      <td>Male</td>\n",
       "      <td>Clothing</td>\n",
       "      <td>2022-11</td>\n",
       "      <td>10</td>\n",
       "    </tr>\n",
       "    <tr>\n",
       "      <th>1</th>\n",
       "      <td>2022-07-09</td>\n",
       "      <td>Male</td>\n",
       "      <td>Beauty</td>\n",
       "      <td>2022-07</td>\n",
       "      <td>11</td>\n",
       "    </tr>\n",
       "    <tr>\n",
       "      <th>2</th>\n",
       "      <td>2022-12-12</td>\n",
       "      <td>Female</td>\n",
       "      <td>Clothing</td>\n",
       "      <td>2022-12</td>\n",
       "      <td>10</td>\n",
       "    </tr>\n",
       "    <tr>\n",
       "      <th>3</th>\n",
       "      <td>2022-01-06</td>\n",
       "      <td>Male</td>\n",
       "      <td>Clothing</td>\n",
       "      <td>2022-01</td>\n",
       "      <td>8</td>\n",
       "    </tr>\n",
       "    <tr>\n",
       "      <th>4</th>\n",
       "      <td>2022-11-14</td>\n",
       "      <td>Male</td>\n",
       "      <td>Beauty</td>\n",
       "      <td>2022-11</td>\n",
       "      <td>8</td>\n",
       "    </tr>\n",
       "  </tbody>\n",
       "</table>\n",
       "</div>"
      ],
      "text/plain": [
       "   sale_date  gender  category month_year  hour\n",
       "0 2022-11-05    Male  Clothing    2022-11    10\n",
       "1 2022-07-09    Male    Beauty    2022-07    11\n",
       "2 2022-12-12  Female  Clothing    2022-12    10\n",
       "3 2022-01-06    Male  Clothing    2022-01     8\n",
       "4 2022-11-14    Male    Beauty    2022-11     8"
      ]
     },
     "execution_count": 262,
     "metadata": {},
     "output_type": "execute_result"
    }
   ],
   "source": [
    "df_categorical.head()"
   ]
  },
  {
   "cell_type": "code",
   "execution_count": 263,
   "metadata": {},
   "outputs": [
    {
     "data": {
      "text/html": [
       "<div>\n",
       "<style scoped>\n",
       "    .dataframe tbody tr th:only-of-type {\n",
       "        vertical-align: middle;\n",
       "    }\n",
       "\n",
       "    .dataframe tbody tr th {\n",
       "        vertical-align: top;\n",
       "    }\n",
       "\n",
       "    .dataframe thead th {\n",
       "        text-align: right;\n",
       "    }\n",
       "</style>\n",
       "<table border=\"1\" class=\"dataframe\">\n",
       "  <thead>\n",
       "    <tr style=\"text-align: right;\">\n",
       "      <th></th>\n",
       "      <th>Female</th>\n",
       "      <th>Male</th>\n",
       "    </tr>\n",
       "  </thead>\n",
       "  <tbody>\n",
       "    <tr>\n",
       "      <th>0</th>\n",
       "      <td>0</td>\n",
       "      <td>1</td>\n",
       "    </tr>\n",
       "    <tr>\n",
       "      <th>1</th>\n",
       "      <td>0</td>\n",
       "      <td>1</td>\n",
       "    </tr>\n",
       "    <tr>\n",
       "      <th>2</th>\n",
       "      <td>1</td>\n",
       "      <td>0</td>\n",
       "    </tr>\n",
       "    <tr>\n",
       "      <th>3</th>\n",
       "      <td>0</td>\n",
       "      <td>1</td>\n",
       "    </tr>\n",
       "    <tr>\n",
       "      <th>4</th>\n",
       "      <td>0</td>\n",
       "      <td>1</td>\n",
       "    </tr>\n",
       "    <tr>\n",
       "      <th>...</th>\n",
       "      <td>...</td>\n",
       "      <td>...</td>\n",
       "    </tr>\n",
       "    <tr>\n",
       "      <th>1995</th>\n",
       "      <td>0</td>\n",
       "      <td>1</td>\n",
       "    </tr>\n",
       "    <tr>\n",
       "      <th>1996</th>\n",
       "      <td>0</td>\n",
       "      <td>1</td>\n",
       "    </tr>\n",
       "    <tr>\n",
       "      <th>1997</th>\n",
       "      <td>0</td>\n",
       "      <td>1</td>\n",
       "    </tr>\n",
       "    <tr>\n",
       "      <th>1998</th>\n",
       "      <td>0</td>\n",
       "      <td>1</td>\n",
       "    </tr>\n",
       "    <tr>\n",
       "      <th>1999</th>\n",
       "      <td>0</td>\n",
       "      <td>1</td>\n",
       "    </tr>\n",
       "  </tbody>\n",
       "</table>\n",
       "<p>2000 rows × 2 columns</p>\n",
       "</div>"
      ],
      "text/plain": [
       "      Female  Male\n",
       "0          0     1\n",
       "1          0     1\n",
       "2          1     0\n",
       "3          0     1\n",
       "4          0     1\n",
       "...      ...   ...\n",
       "1995       0     1\n",
       "1996       0     1\n",
       "1997       0     1\n",
       "1998       0     1\n",
       "1999       0     1\n",
       "\n",
       "[2000 rows x 2 columns]"
      ]
     },
     "execution_count": 263,
     "metadata": {},
     "output_type": "execute_result"
    }
   ],
   "source": [
    "pd.get_dummies(df_categorical['gender'], drop_first=False, dtype='int')\n",
    "\n"
   ]
  },
  {
   "cell_type": "code",
   "execution_count": 264,
   "metadata": {},
   "outputs": [
    {
     "data": {
      "text/html": [
       "<div>\n",
       "<style scoped>\n",
       "    .dataframe tbody tr th:only-of-type {\n",
       "        vertical-align: middle;\n",
       "    }\n",
       "\n",
       "    .dataframe tbody tr th {\n",
       "        vertical-align: top;\n",
       "    }\n",
       "\n",
       "    .dataframe thead th {\n",
       "        text-align: right;\n",
       "    }\n",
       "</style>\n",
       "<table border=\"1\" class=\"dataframe\">\n",
       "  <thead>\n",
       "    <tr style=\"text-align: right;\">\n",
       "      <th></th>\n",
       "      <th>sale_date</th>\n",
       "      <th>gender</th>\n",
       "      <th>category</th>\n",
       "      <th>month_year</th>\n",
       "      <th>hour</th>\n",
       "    </tr>\n",
       "  </thead>\n",
       "  <tbody>\n",
       "    <tr>\n",
       "      <th>0</th>\n",
       "      <td>2022-11-05</td>\n",
       "      <td>Male</td>\n",
       "      <td>Clothing</td>\n",
       "      <td>2022-11</td>\n",
       "      <td>10</td>\n",
       "    </tr>\n",
       "    <tr>\n",
       "      <th>1</th>\n",
       "      <td>2022-07-09</td>\n",
       "      <td>Male</td>\n",
       "      <td>Beauty</td>\n",
       "      <td>2022-07</td>\n",
       "      <td>11</td>\n",
       "    </tr>\n",
       "    <tr>\n",
       "      <th>2</th>\n",
       "      <td>2022-12-12</td>\n",
       "      <td>Female</td>\n",
       "      <td>Clothing</td>\n",
       "      <td>2022-12</td>\n",
       "      <td>10</td>\n",
       "    </tr>\n",
       "    <tr>\n",
       "      <th>3</th>\n",
       "      <td>2022-01-06</td>\n",
       "      <td>Male</td>\n",
       "      <td>Clothing</td>\n",
       "      <td>2022-01</td>\n",
       "      <td>8</td>\n",
       "    </tr>\n",
       "    <tr>\n",
       "      <th>4</th>\n",
       "      <td>2022-11-14</td>\n",
       "      <td>Male</td>\n",
       "      <td>Beauty</td>\n",
       "      <td>2022-11</td>\n",
       "      <td>8</td>\n",
       "    </tr>\n",
       "  </tbody>\n",
       "</table>\n",
       "</div>"
      ],
      "text/plain": [
       "   sale_date  gender  category month_year  hour\n",
       "0 2022-11-05    Male  Clothing    2022-11    10\n",
       "1 2022-07-09    Male    Beauty    2022-07    11\n",
       "2 2022-12-12  Female  Clothing    2022-12    10\n",
       "3 2022-01-06    Male  Clothing    2022-01     8\n",
       "4 2022-11-14    Male    Beauty    2022-11     8"
      ]
     },
     "execution_count": 264,
     "metadata": {},
     "output_type": "execute_result"
    }
   ],
   "source": [
    "df_categorical.head()"
   ]
  },
  {
   "cell_type": "code",
   "execution_count": 265,
   "metadata": {},
   "outputs": [
    {
     "name": "stdout",
     "output_type": "stream",
     "text": [
      "<class 'pandas.core.frame.DataFrame'>\n",
      "RangeIndex: 2000 entries, 0 to 1999\n",
      "Data columns (total 5 columns):\n",
      " #   Column      Non-Null Count  Dtype         \n",
      "---  ------      --------------  -----         \n",
      " 0   sale_date   2000 non-null   datetime64[ns]\n",
      " 1   gender      2000 non-null   object        \n",
      " 2   category    2000 non-null   object        \n",
      " 3   month_year  2000 non-null   period[M]     \n",
      " 4   hour        2000 non-null   int32         \n",
      "dtypes: datetime64[ns](1), int32(1), object(2), period[M](1)\n",
      "memory usage: 70.4+ KB\n"
     ]
    }
   ],
   "source": [
    "df_categorical.info()"
   ]
  },
  {
   "cell_type": "code",
   "execution_count": 266,
   "metadata": {},
   "outputs": [
    {
     "data": {
      "text/html": [
       "<div>\n",
       "<style scoped>\n",
       "    .dataframe tbody tr th:only-of-type {\n",
       "        vertical-align: middle;\n",
       "    }\n",
       "\n",
       "    .dataframe tbody tr th {\n",
       "        vertical-align: top;\n",
       "    }\n",
       "\n",
       "    .dataframe thead th {\n",
       "        text-align: right;\n",
       "    }\n",
       "</style>\n",
       "<table border=\"1\" class=\"dataframe\">\n",
       "  <thead>\n",
       "    <tr style=\"text-align: right;\">\n",
       "      <th></th>\n",
       "      <th>sale_date</th>\n",
       "      <th>gender</th>\n",
       "      <th>category</th>\n",
       "      <th>month_year</th>\n",
       "      <th>hour</th>\n",
       "    </tr>\n",
       "  </thead>\n",
       "  <tbody>\n",
       "    <tr>\n",
       "      <th>0</th>\n",
       "      <td>2022-11-05</td>\n",
       "      <td>Male</td>\n",
       "      <td>Clothing</td>\n",
       "      <td>2022-11</td>\n",
       "      <td>10</td>\n",
       "    </tr>\n",
       "    <tr>\n",
       "      <th>1</th>\n",
       "      <td>2022-07-09</td>\n",
       "      <td>Male</td>\n",
       "      <td>Beauty</td>\n",
       "      <td>2022-07</td>\n",
       "      <td>11</td>\n",
       "    </tr>\n",
       "    <tr>\n",
       "      <th>2</th>\n",
       "      <td>2022-12-12</td>\n",
       "      <td>Female</td>\n",
       "      <td>Clothing</td>\n",
       "      <td>2022-12</td>\n",
       "      <td>10</td>\n",
       "    </tr>\n",
       "    <tr>\n",
       "      <th>3</th>\n",
       "      <td>2022-01-06</td>\n",
       "      <td>Male</td>\n",
       "      <td>Clothing</td>\n",
       "      <td>2022-01</td>\n",
       "      <td>8</td>\n",
       "    </tr>\n",
       "    <tr>\n",
       "      <th>4</th>\n",
       "      <td>2022-11-14</td>\n",
       "      <td>Male</td>\n",
       "      <td>Beauty</td>\n",
       "      <td>2022-11</td>\n",
       "      <td>8</td>\n",
       "    </tr>\n",
       "    <tr>\n",
       "      <th>...</th>\n",
       "      <td>...</td>\n",
       "      <td>...</td>\n",
       "      <td>...</td>\n",
       "      <td>...</td>\n",
       "      <td>...</td>\n",
       "    </tr>\n",
       "    <tr>\n",
       "      <th>1995</th>\n",
       "      <td>2022-11-09</td>\n",
       "      <td>Male</td>\n",
       "      <td>Electronics</td>\n",
       "      <td>2022-11</td>\n",
       "      <td>12</td>\n",
       "    </tr>\n",
       "    <tr>\n",
       "      <th>1996</th>\n",
       "      <td>2022-09-12</td>\n",
       "      <td>Male</td>\n",
       "      <td>Beauty</td>\n",
       "      <td>2022-09</td>\n",
       "      <td>14</td>\n",
       "    </tr>\n",
       "    <tr>\n",
       "      <th>1997</th>\n",
       "      <td>2023-10-08</td>\n",
       "      <td>Male</td>\n",
       "      <td>Electronics</td>\n",
       "      <td>2023-10</td>\n",
       "      <td>12</td>\n",
       "    </tr>\n",
       "    <tr>\n",
       "      <th>1998</th>\n",
       "      <td>2023-11-22</td>\n",
       "      <td>Male</td>\n",
       "      <td>Beauty</td>\n",
       "      <td>2023-11</td>\n",
       "      <td>14</td>\n",
       "    </tr>\n",
       "    <tr>\n",
       "      <th>1999</th>\n",
       "      <td>2022-09-23</td>\n",
       "      <td>Male</td>\n",
       "      <td>Electronics</td>\n",
       "      <td>2022-09</td>\n",
       "      <td>16</td>\n",
       "    </tr>\n",
       "  </tbody>\n",
       "</table>\n",
       "<p>2000 rows × 5 columns</p>\n",
       "</div>"
      ],
      "text/plain": [
       "      sale_date  gender     category month_year  hour\n",
       "0    2022-11-05    Male     Clothing    2022-11    10\n",
       "1    2022-07-09    Male       Beauty    2022-07    11\n",
       "2    2022-12-12  Female     Clothing    2022-12    10\n",
       "3    2022-01-06    Male     Clothing    2022-01     8\n",
       "4    2022-11-14    Male       Beauty    2022-11     8\n",
       "...         ...     ...          ...        ...   ...\n",
       "1995 2022-11-09    Male  Electronics    2022-11    12\n",
       "1996 2022-09-12    Male       Beauty    2022-09    14\n",
       "1997 2023-10-08    Male  Electronics    2023-10    12\n",
       "1998 2023-11-22    Male       Beauty    2023-11    14\n",
       "1999 2022-09-23    Male  Electronics    2022-09    16\n",
       "\n",
       "[2000 rows x 5 columns]"
      ]
     },
     "execution_count": 266,
     "metadata": {},
     "output_type": "execute_result"
    }
   ],
   "source": [
    "df_categorical"
   ]
  },
  {
   "cell_type": "code",
   "execution_count": 267,
   "metadata": {},
   "outputs": [
    {
     "name": "stdout",
     "output_type": "stream",
     "text": [
      "There are 2 categorical variables\n",
      "\n",
      "The categorical variables are : ['gender', 'category']\n"
     ]
    }
   ],
   "source": [
    "# find categorical variables\n",
    "\n",
    "categorical = [var for var in df_categorical.columns if df_categorical[var].dtype=='O']\n",
    "\n",
    "print('There are {} categorical variables\\n'.format(len(categorical)))\n",
    "\n",
    "print('The categorical variables are :', categorical)"
   ]
  },
  {
   "cell_type": "code",
   "execution_count": 268,
   "metadata": {},
   "outputs": [],
   "source": [
    "df_encoded= pd.get_dummies(df_categorical[categorical], drop_first=False, dtype='int')\n",
    "\n"
   ]
  },
  {
   "cell_type": "code",
   "execution_count": 269,
   "metadata": {},
   "outputs": [
    {
     "data": {
      "text/html": [
       "<div>\n",
       "<style scoped>\n",
       "    .dataframe tbody tr th:only-of-type {\n",
       "        vertical-align: middle;\n",
       "    }\n",
       "\n",
       "    .dataframe tbody tr th {\n",
       "        vertical-align: top;\n",
       "    }\n",
       "\n",
       "    .dataframe thead th {\n",
       "        text-align: right;\n",
       "    }\n",
       "</style>\n",
       "<table border=\"1\" class=\"dataframe\">\n",
       "  <thead>\n",
       "    <tr style=\"text-align: right;\">\n",
       "      <th></th>\n",
       "      <th>sale_date</th>\n",
       "      <th>gender</th>\n",
       "      <th>category</th>\n",
       "      <th>month_year</th>\n",
       "      <th>hour</th>\n",
       "    </tr>\n",
       "  </thead>\n",
       "  <tbody>\n",
       "    <tr>\n",
       "      <th>0</th>\n",
       "      <td>2022-11-05</td>\n",
       "      <td>Male</td>\n",
       "      <td>Clothing</td>\n",
       "      <td>2022-11</td>\n",
       "      <td>10</td>\n",
       "    </tr>\n",
       "    <tr>\n",
       "      <th>1</th>\n",
       "      <td>2022-07-09</td>\n",
       "      <td>Male</td>\n",
       "      <td>Beauty</td>\n",
       "      <td>2022-07</td>\n",
       "      <td>11</td>\n",
       "    </tr>\n",
       "    <tr>\n",
       "      <th>2</th>\n",
       "      <td>2022-12-12</td>\n",
       "      <td>Female</td>\n",
       "      <td>Clothing</td>\n",
       "      <td>2022-12</td>\n",
       "      <td>10</td>\n",
       "    </tr>\n",
       "    <tr>\n",
       "      <th>3</th>\n",
       "      <td>2022-01-06</td>\n",
       "      <td>Male</td>\n",
       "      <td>Clothing</td>\n",
       "      <td>2022-01</td>\n",
       "      <td>8</td>\n",
       "    </tr>\n",
       "    <tr>\n",
       "      <th>4</th>\n",
       "      <td>2022-11-14</td>\n",
       "      <td>Male</td>\n",
       "      <td>Beauty</td>\n",
       "      <td>2022-11</td>\n",
       "      <td>8</td>\n",
       "    </tr>\n",
       "  </tbody>\n",
       "</table>\n",
       "</div>"
      ],
      "text/plain": [
       "   sale_date  gender  category month_year  hour\n",
       "0 2022-11-05    Male  Clothing    2022-11    10\n",
       "1 2022-07-09    Male    Beauty    2022-07    11\n",
       "2 2022-12-12  Female  Clothing    2022-12    10\n",
       "3 2022-01-06    Male  Clothing    2022-01     8\n",
       "4 2022-11-14    Male    Beauty    2022-11     8"
      ]
     },
     "execution_count": 269,
     "metadata": {},
     "output_type": "execute_result"
    }
   ],
   "source": [
    "df_categorical.head()"
   ]
  },
  {
   "cell_type": "code",
   "execution_count": 270,
   "metadata": {},
   "outputs": [
    {
     "data": {
      "text/html": [
       "<div>\n",
       "<style scoped>\n",
       "    .dataframe tbody tr th:only-of-type {\n",
       "        vertical-align: middle;\n",
       "    }\n",
       "\n",
       "    .dataframe tbody tr th {\n",
       "        vertical-align: top;\n",
       "    }\n",
       "\n",
       "    .dataframe thead th {\n",
       "        text-align: right;\n",
       "    }\n",
       "</style>\n",
       "<table border=\"1\" class=\"dataframe\">\n",
       "  <thead>\n",
       "    <tr style=\"text-align: right;\">\n",
       "      <th></th>\n",
       "      <th>gender_Female</th>\n",
       "      <th>gender_Male</th>\n",
       "      <th>category_Beauty</th>\n",
       "      <th>category_Clothing</th>\n",
       "      <th>category_Electronics</th>\n",
       "    </tr>\n",
       "  </thead>\n",
       "  <tbody>\n",
       "    <tr>\n",
       "      <th>0</th>\n",
       "      <td>0</td>\n",
       "      <td>1</td>\n",
       "      <td>0</td>\n",
       "      <td>1</td>\n",
       "      <td>0</td>\n",
       "    </tr>\n",
       "    <tr>\n",
       "      <th>1</th>\n",
       "      <td>0</td>\n",
       "      <td>1</td>\n",
       "      <td>1</td>\n",
       "      <td>0</td>\n",
       "      <td>0</td>\n",
       "    </tr>\n",
       "    <tr>\n",
       "      <th>2</th>\n",
       "      <td>1</td>\n",
       "      <td>0</td>\n",
       "      <td>0</td>\n",
       "      <td>1</td>\n",
       "      <td>0</td>\n",
       "    </tr>\n",
       "    <tr>\n",
       "      <th>3</th>\n",
       "      <td>0</td>\n",
       "      <td>1</td>\n",
       "      <td>0</td>\n",
       "      <td>1</td>\n",
       "      <td>0</td>\n",
       "    </tr>\n",
       "    <tr>\n",
       "      <th>4</th>\n",
       "      <td>0</td>\n",
       "      <td>1</td>\n",
       "      <td>1</td>\n",
       "      <td>0</td>\n",
       "      <td>0</td>\n",
       "    </tr>\n",
       "  </tbody>\n",
       "</table>\n",
       "</div>"
      ],
      "text/plain": [
       "   gender_Female  gender_Male  category_Beauty  category_Clothing  \\\n",
       "0              0            1                0                  1   \n",
       "1              0            1                1                  0   \n",
       "2              1            0                0                  1   \n",
       "3              0            1                0                  1   \n",
       "4              0            1                1                  0   \n",
       "\n",
       "   category_Electronics  \n",
       "0                     0  \n",
       "1                     0  \n",
       "2                     0  \n",
       "3                     0  \n",
       "4                     0  "
      ]
     },
     "execution_count": 270,
     "metadata": {},
     "output_type": "execute_result"
    }
   ],
   "source": [
    "df_encoded.head()"
   ]
  },
  {
   "cell_type": "code",
   "execution_count": 271,
   "metadata": {},
   "outputs": [],
   "source": [
    "df_categorical.drop('category', axis=1, inplace=True)\n",
    "df_categorical.drop('gender', axis=1, inplace=True)"
   ]
  },
  {
   "cell_type": "code",
   "execution_count": 272,
   "metadata": {},
   "outputs": [],
   "source": [
    "# Concatenating along the columns (axis=1)\n",
    "merged_df = pd.concat([df_categorical, df_encoded], axis=1)\n"
   ]
  },
  {
   "cell_type": "code",
   "execution_count": 273,
   "metadata": {},
   "outputs": [
    {
     "data": {
      "text/html": [
       "<div>\n",
       "<style scoped>\n",
       "    .dataframe tbody tr th:only-of-type {\n",
       "        vertical-align: middle;\n",
       "    }\n",
       "\n",
       "    .dataframe tbody tr th {\n",
       "        vertical-align: top;\n",
       "    }\n",
       "\n",
       "    .dataframe thead th {\n",
       "        text-align: right;\n",
       "    }\n",
       "</style>\n",
       "<table border=\"1\" class=\"dataframe\">\n",
       "  <thead>\n",
       "    <tr style=\"text-align: right;\">\n",
       "      <th></th>\n",
       "      <th>sale_date</th>\n",
       "      <th>month_year</th>\n",
       "      <th>hour</th>\n",
       "      <th>gender_Female</th>\n",
       "      <th>gender_Male</th>\n",
       "      <th>category_Beauty</th>\n",
       "      <th>category_Clothing</th>\n",
       "      <th>category_Electronics</th>\n",
       "    </tr>\n",
       "  </thead>\n",
       "  <tbody>\n",
       "    <tr>\n",
       "      <th>0</th>\n",
       "      <td>2022-11-05</td>\n",
       "      <td>2022-11</td>\n",
       "      <td>10</td>\n",
       "      <td>0</td>\n",
       "      <td>1</td>\n",
       "      <td>0</td>\n",
       "      <td>1</td>\n",
       "      <td>0</td>\n",
       "    </tr>\n",
       "    <tr>\n",
       "      <th>1</th>\n",
       "      <td>2022-07-09</td>\n",
       "      <td>2022-07</td>\n",
       "      <td>11</td>\n",
       "      <td>0</td>\n",
       "      <td>1</td>\n",
       "      <td>1</td>\n",
       "      <td>0</td>\n",
       "      <td>0</td>\n",
       "    </tr>\n",
       "    <tr>\n",
       "      <th>2</th>\n",
       "      <td>2022-12-12</td>\n",
       "      <td>2022-12</td>\n",
       "      <td>10</td>\n",
       "      <td>1</td>\n",
       "      <td>0</td>\n",
       "      <td>0</td>\n",
       "      <td>1</td>\n",
       "      <td>0</td>\n",
       "    </tr>\n",
       "    <tr>\n",
       "      <th>3</th>\n",
       "      <td>2022-01-06</td>\n",
       "      <td>2022-01</td>\n",
       "      <td>8</td>\n",
       "      <td>0</td>\n",
       "      <td>1</td>\n",
       "      <td>0</td>\n",
       "      <td>1</td>\n",
       "      <td>0</td>\n",
       "    </tr>\n",
       "    <tr>\n",
       "      <th>4</th>\n",
       "      <td>2022-11-14</td>\n",
       "      <td>2022-11</td>\n",
       "      <td>8</td>\n",
       "      <td>0</td>\n",
       "      <td>1</td>\n",
       "      <td>1</td>\n",
       "      <td>0</td>\n",
       "      <td>0</td>\n",
       "    </tr>\n",
       "  </tbody>\n",
       "</table>\n",
       "</div>"
      ],
      "text/plain": [
       "   sale_date month_year  hour  gender_Female  gender_Male  category_Beauty  \\\n",
       "0 2022-11-05    2022-11    10              0            1                0   \n",
       "1 2022-07-09    2022-07    11              0            1                1   \n",
       "2 2022-12-12    2022-12    10              1            0                0   \n",
       "3 2022-01-06    2022-01     8              0            1                0   \n",
       "4 2022-11-14    2022-11     8              0            1                1   \n",
       "\n",
       "   category_Clothing  category_Electronics  \n",
       "0                  1                     0  \n",
       "1                  0                     0  \n",
       "2                  1                     0  \n",
       "3                  1                     0  \n",
       "4                  0                     0  "
      ]
     },
     "execution_count": 273,
     "metadata": {},
     "output_type": "execute_result"
    }
   ],
   "source": [
    "merged_df.head()"
   ]
  },
  {
   "cell_type": "markdown",
   "metadata": {},
   "source": [
    "### Exploring Numerical Variables"
   ]
  },
  {
   "cell_type": "code",
   "execution_count": 274,
   "metadata": {},
   "outputs": [
    {
     "name": "stdout",
     "output_type": "stream",
     "text": [
      "There are 7 numerical variables\n",
      "\n",
      "The numerical variables are : ['transactions_id', 'customer_id', 'age', 'quantiy', 'price_per_unit', 'cogs', 'total_sale']\n"
     ]
    }
   ],
   "source": [
    "# find numerical variables\n",
    "\n",
    "numerical = [var for var in df.columns if df[var].dtype!='O']\n",
    "\n",
    "print('There are {} numerical variables\\n'.format(len(numerical)))\n",
    "\n",
    "print('The numerical variables are :', numerical)"
   ]
  },
  {
   "cell_type": "code",
   "execution_count": 275,
   "metadata": {},
   "outputs": [],
   "source": [
    "df_numerical= df[numerical].copy()"
   ]
  },
  {
   "cell_type": "code",
   "execution_count": 276,
   "metadata": {},
   "outputs": [
    {
     "data": {
      "text/html": [
       "<div>\n",
       "<style scoped>\n",
       "    .dataframe tbody tr th:only-of-type {\n",
       "        vertical-align: middle;\n",
       "    }\n",
       "\n",
       "    .dataframe tbody tr th {\n",
       "        vertical-align: top;\n",
       "    }\n",
       "\n",
       "    .dataframe thead th {\n",
       "        text-align: right;\n",
       "    }\n",
       "</style>\n",
       "<table border=\"1\" class=\"dataframe\">\n",
       "  <thead>\n",
       "    <tr style=\"text-align: right;\">\n",
       "      <th></th>\n",
       "      <th>transactions_id</th>\n",
       "      <th>customer_id</th>\n",
       "      <th>age</th>\n",
       "      <th>quantiy</th>\n",
       "      <th>price_per_unit</th>\n",
       "      <th>cogs</th>\n",
       "      <th>total_sale</th>\n",
       "    </tr>\n",
       "  </thead>\n",
       "  <tbody>\n",
       "    <tr>\n",
       "      <th>0</th>\n",
       "      <td>180</td>\n",
       "      <td>117</td>\n",
       "      <td>41.0</td>\n",
       "      <td>3.0</td>\n",
       "      <td>300.0</td>\n",
       "      <td>129.0</td>\n",
       "      <td>900.0</td>\n",
       "    </tr>\n",
       "    <tr>\n",
       "      <th>1</th>\n",
       "      <td>522</td>\n",
       "      <td>52</td>\n",
       "      <td>46.0</td>\n",
       "      <td>3.0</td>\n",
       "      <td>500.0</td>\n",
       "      <td>145.0</td>\n",
       "      <td>1500.0</td>\n",
       "    </tr>\n",
       "    <tr>\n",
       "      <th>2</th>\n",
       "      <td>559</td>\n",
       "      <td>5</td>\n",
       "      <td>40.0</td>\n",
       "      <td>4.0</td>\n",
       "      <td>300.0</td>\n",
       "      <td>84.0</td>\n",
       "      <td>1200.0</td>\n",
       "    </tr>\n",
       "    <tr>\n",
       "      <th>3</th>\n",
       "      <td>1180</td>\n",
       "      <td>85</td>\n",
       "      <td>41.0</td>\n",
       "      <td>3.0</td>\n",
       "      <td>300.0</td>\n",
       "      <td>129.0</td>\n",
       "      <td>900.0</td>\n",
       "    </tr>\n",
       "    <tr>\n",
       "      <th>4</th>\n",
       "      <td>1522</td>\n",
       "      <td>48</td>\n",
       "      <td>46.0</td>\n",
       "      <td>3.0</td>\n",
       "      <td>500.0</td>\n",
       "      <td>235.0</td>\n",
       "      <td>1500.0</td>\n",
       "    </tr>\n",
       "  </tbody>\n",
       "</table>\n",
       "</div>"
      ],
      "text/plain": [
       "   transactions_id  customer_id   age  quantiy  price_per_unit   cogs  \\\n",
       "0              180          117  41.0      3.0           300.0  129.0   \n",
       "1              522           52  46.0      3.0           500.0  145.0   \n",
       "2              559            5  40.0      4.0           300.0   84.0   \n",
       "3             1180           85  41.0      3.0           300.0  129.0   \n",
       "4             1522           48  46.0      3.0           500.0  235.0   \n",
       "\n",
       "   total_sale  \n",
       "0       900.0  \n",
       "1      1500.0  \n",
       "2      1200.0  \n",
       "3       900.0  \n",
       "4      1500.0  "
      ]
     },
     "execution_count": 276,
     "metadata": {},
     "output_type": "execute_result"
    }
   ],
   "source": [
    "df_numerical.head()"
   ]
  },
  {
   "cell_type": "code",
   "execution_count": 277,
   "metadata": {},
   "outputs": [
    {
     "data": {
      "text/plain": [
       "transactions_id     0\n",
       "customer_id         0\n",
       "age                10\n",
       "quantiy             3\n",
       "price_per_unit      3\n",
       "cogs                3\n",
       "total_sale          3\n",
       "dtype: int64"
      ]
     },
     "execution_count": 277,
     "metadata": {},
     "output_type": "execute_result"
    }
   ],
   "source": [
    "\n",
    "\n",
    "# check missing values in numerical variables\n",
    "\n",
    "df_numerical.isnull().sum()"
   ]
  },
  {
   "cell_type": "code",
   "execution_count": 278,
   "metadata": {},
   "outputs": [
    {
     "data": {
      "text/html": [
       "<div>\n",
       "<style scoped>\n",
       "    .dataframe tbody tr th:only-of-type {\n",
       "        vertical-align: middle;\n",
       "    }\n",
       "\n",
       "    .dataframe tbody tr th {\n",
       "        vertical-align: top;\n",
       "    }\n",
       "\n",
       "    .dataframe thead th {\n",
       "        text-align: right;\n",
       "    }\n",
       "</style>\n",
       "<table border=\"1\" class=\"dataframe\">\n",
       "  <thead>\n",
       "    <tr style=\"text-align: right;\">\n",
       "      <th></th>\n",
       "      <th>transactions_id</th>\n",
       "      <th>customer_id</th>\n",
       "      <th>age</th>\n",
       "      <th>quantiy</th>\n",
       "      <th>price_per_unit</th>\n",
       "      <th>cogs</th>\n",
       "      <th>total_sale</th>\n",
       "    </tr>\n",
       "  </thead>\n",
       "  <tbody>\n",
       "    <tr>\n",
       "      <th>count</th>\n",
       "      <td>2000.000000</td>\n",
       "      <td>2000.000000</td>\n",
       "      <td>1990.000000</td>\n",
       "      <td>1997.000000</td>\n",
       "      <td>1997.000000</td>\n",
       "      <td>1997.000000</td>\n",
       "      <td>1997.000000</td>\n",
       "    </tr>\n",
       "    <tr>\n",
       "      <th>mean</th>\n",
       "      <td>1000.500000</td>\n",
       "      <td>66.341500</td>\n",
       "      <td>41.343216</td>\n",
       "      <td>2.512769</td>\n",
       "      <td>180.117677</td>\n",
       "      <td>95.023886</td>\n",
       "      <td>456.544817</td>\n",
       "    </tr>\n",
       "    <tr>\n",
       "      <th>std</th>\n",
       "      <td>577.494589</td>\n",
       "      <td>44.937185</td>\n",
       "      <td>13.668167</td>\n",
       "      <td>1.132708</td>\n",
       "      <td>189.685225</td>\n",
       "      <td>121.898695</td>\n",
       "      <td>560.101381</td>\n",
       "    </tr>\n",
       "    <tr>\n",
       "      <th>min</th>\n",
       "      <td>1.000000</td>\n",
       "      <td>1.000000</td>\n",
       "      <td>18.000000</td>\n",
       "      <td>1.000000</td>\n",
       "      <td>25.000000</td>\n",
       "      <td>6.250000</td>\n",
       "      <td>25.000000</td>\n",
       "    </tr>\n",
       "    <tr>\n",
       "      <th>25%</th>\n",
       "      <td>500.750000</td>\n",
       "      <td>24.000000</td>\n",
       "      <td>29.000000</td>\n",
       "      <td>1.000000</td>\n",
       "      <td>30.000000</td>\n",
       "      <td>13.000000</td>\n",
       "      <td>60.000000</td>\n",
       "    </tr>\n",
       "    <tr>\n",
       "      <th>50%</th>\n",
       "      <td>1000.500000</td>\n",
       "      <td>69.000000</td>\n",
       "      <td>42.000000</td>\n",
       "      <td>3.000000</td>\n",
       "      <td>50.000000</td>\n",
       "      <td>27.500000</td>\n",
       "      <td>150.000000</td>\n",
       "    </tr>\n",
       "    <tr>\n",
       "      <th>75%</th>\n",
       "      <td>1500.250000</td>\n",
       "      <td>102.000000</td>\n",
       "      <td>53.000000</td>\n",
       "      <td>4.000000</td>\n",
       "      <td>300.000000</td>\n",
       "      <td>147.000000</td>\n",
       "      <td>900.000000</td>\n",
       "    </tr>\n",
       "    <tr>\n",
       "      <th>max</th>\n",
       "      <td>2000.000000</td>\n",
       "      <td>155.000000</td>\n",
       "      <td>64.000000</td>\n",
       "      <td>4.000000</td>\n",
       "      <td>500.000000</td>\n",
       "      <td>620.000000</td>\n",
       "      <td>2000.000000</td>\n",
       "    </tr>\n",
       "  </tbody>\n",
       "</table>\n",
       "</div>"
      ],
      "text/plain": [
       "       transactions_id  customer_id          age      quantiy  price_per_unit  \\\n",
       "count      2000.000000  2000.000000  1990.000000  1997.000000     1997.000000   \n",
       "mean       1000.500000    66.341500    41.343216     2.512769      180.117677   \n",
       "std         577.494589    44.937185    13.668167     1.132708      189.685225   \n",
       "min           1.000000     1.000000    18.000000     1.000000       25.000000   \n",
       "25%         500.750000    24.000000    29.000000     1.000000       30.000000   \n",
       "50%        1000.500000    69.000000    42.000000     3.000000       50.000000   \n",
       "75%        1500.250000   102.000000    53.000000     4.000000      300.000000   \n",
       "max        2000.000000   155.000000    64.000000     4.000000      500.000000   \n",
       "\n",
       "              cogs   total_sale  \n",
       "count  1997.000000  1997.000000  \n",
       "mean     95.023886   456.544817  \n",
       "std     121.898695   560.101381  \n",
       "min       6.250000    25.000000  \n",
       "25%      13.000000    60.000000  \n",
       "50%      27.500000   150.000000  \n",
       "75%     147.000000   900.000000  \n",
       "max     620.000000  2000.000000  "
      ]
     },
     "execution_count": 278,
     "metadata": {},
     "output_type": "execute_result"
    }
   ],
   "source": [
    "df_numerical.describe()"
   ]
  },
  {
   "cell_type": "code",
   "execution_count": 279,
   "metadata": {},
   "outputs": [],
   "source": [
    "# Example of how to fill null values for each column\n",
    "df_numerical['age'].fillna(df_numerical['age'].mean(), inplace=True)  # Filling 'age' with mean\n",
    "df_numerical['quantiy'].fillna(df_numerical['quantiy'].median(), inplace=True)  # Filling 'quantity' with median\n",
    "df_numerical['price_per_unit'].fillna(df_numerical['price_per_unit'].mean(), inplace=True)  # Filling 'price_per_unit' with mean\n",
    "df_numerical['cogs'].fillna(df_numerical['cogs'].mean(), inplace=True)  # Filling 'cogs' with mean\n",
    "df_numerical['total_sale'].fillna(df_numerical['total_sale'].mean(), inplace=True)  # Filling 'total_sale' with mean\n"
   ]
  },
  {
   "cell_type": "code",
   "execution_count": 280,
   "metadata": {},
   "outputs": [
    {
     "data": {
      "text/plain": [
       "transactions_id    0\n",
       "customer_id        0\n",
       "age                0\n",
       "quantiy            0\n",
       "price_per_unit     0\n",
       "cogs               0\n",
       "total_sale         0\n",
       "dtype: int64"
      ]
     },
     "execution_count": 280,
     "metadata": {},
     "output_type": "execute_result"
    }
   ],
   "source": [
    "df_numerical.isnull().sum()"
   ]
  },
  {
   "cell_type": "code",
   "execution_count": 281,
   "metadata": {},
   "outputs": [],
   "source": [
    "class BoxplotVisualizer:\n",
    "    def __init__(self, dataframe):\n",
    "        self.dataframe = dataframe\n",
    "    \n",
    "    def draw_boxplots(self):\n",
    "        # Set the style of seaborn for better aesthetics\n",
    "        sns.set(style=\"whitegrid\")\n",
    "        \n",
    "        # Iterate through each numerical column in the dataframe\n",
    "        for column in self.dataframe.select_dtypes(include='number').columns:\n",
    "            plt.figure(figsize=(10, 5))  # Set the size of the figure\n",
    "            sns.boxplot(x=self.dataframe[column])\n",
    "            plt.title(f'Boxplot of {column}')\n",
    "            plt.xlabel(column)\n",
    "            plt.show()"
   ]
  },
  {
   "cell_type": "code",
   "execution_count": 282,
   "metadata": {},
   "outputs": [
    {
     "data": {
      "image/png": "[encoded data removed]",
      "text/plain": [
       "<Figure size 1000x500 with 1 Axes>"
      ]
     },
     "metadata": {},
     "output_type": "display_data"
    },
    {
     "data": {
      "image/png": "[encoded data removed]",
      "text/plain": [
       "<Figure size 1000x500 with 1 Axes>"
      ]
     },
     "metadata": {},
     "output_type": "display_data"
    },
    {
     "data": {
      "image/png": "[encoded data removed]",
      "text/plain": [
       "<Figure size 1000x500 with 1 Axes>"
      ]
     },
     "metadata": {},
     "output_type": "display_data"
    },
    {
     "data": {
      "image/png": "[encoded data removed]",
      "text/plain": [
       "<Figure size 1000x500 with 1 Axes>"
      ]
     },
     "metadata": {},
     "output_type": "display_data"
    },
    {
     "data": {
      "image/png": "[encoded data removed]",
      "text/plain": [
       "<Figure size 1000x500 with 1 Axes>"
      ]
     },
     "metadata": {},
     "output_type": "display_data"
    },
    {
     "data": {
      "image/png": "[encoded data removed]",
      "text/plain": [
       "<Figure size 1000x500 with 1 Axes>"
      ]
     },
     "metadata": {},
     "output_type": "display_data"
    },
    {
     "data": {
      "image/png": "[encoded data removed]",
      "text/plain": [
       "<Figure size 1000x500 with 1 Axes>"
      ]
     },
     "metadata": {},
     "output_type": "display_data"
    }
   ],
   "source": [
    "import seaborn as sns\n",
    "visualizer = BoxplotVisualizer(df_numerical)\n",
    "visualizer.draw_boxplots()\n"
   ]
  },
  {
   "cell_type": "code",
   "execution_count": 283,
   "metadata": {},
   "outputs": [],
   "source": [
    "from scipy.stats import norm, skew\n",
    "\n",
    "class DistributionAnalyzer:\n",
    "    def __init__(self, dataframe):\n",
    "        self.dataframe = dataframe\n",
    "    \n",
    "    def check_distributions(self):\n",
    "        sns.set(style=\"whitegrid\")\n",
    "        \n",
    "        for column in self.dataframe.select_dtypes(include='number').columns:\n",
    "            plt.figure(figsize=(10, 5))\n",
    "            sns.histplot(self.dataframe[column], kde=True)\n",
    "            \n",
    "            # Checking skewness\n",
    "            skewness = self.dataframe[column].skew()\n",
    "            \n",
    "            plt.title(f'Distribution of {column} (Skewness: {skewness:.2f})')\n",
    "            plt.xlabel(column)\n",
    "            plt.ylabel('Frequency')\n",
    "            plt.show()\n",
    "            \n",
    "            # Analyze distribution\n",
    "            if abs(skewness) < 0.5:\n",
    "                print(f'{column} is approximately normally distributed. Consider extreme value analysis.')\n",
    "            else:\n",
    "                print(f'{column} is skewed. Consider using IQR for outlier detection.')\n",
    "    \n",
    "    def find_IQR(self, column):\n",
    "        Q1 = self.dataframe[column].quantile(0.25)\n",
    "        Q3 = self.dataframe[column].quantile(0.75)\n",
    "        IQR = Q3 - Q1\n",
    "        print(f'IQR for {column}: {IQR}')\n",
    "        return IQR\n"
   ]
  },
  {
   "cell_type": "code",
   "execution_count": 284,
   "metadata": {},
   "outputs": [
    {
     "name": "stderr",
     "output_type": "stream",
     "text": [
      "c:\\Users\\user\\anaconda3\\Lib\\site-packages\\seaborn\\_oldcore.py:1119: FutureWarning: use_inf_as_na option is deprecated and will be removed in a future version. Convert inf values to NaN before operating instead.\n",
      "  with pd.option_context('mode.use_inf_as_na', True):\n"
     ]
    },
    {
     "data": {
      "image/png": "[encoded data removed]",
      "text/plain": [
       "<Figure size 1000x500 with 1 Axes>"
      ]
     },
     "metadata": {},
     "output_type": "display_data"
    },
    {
     "name": "stdout",
     "output_type": "stream",
     "text": [
      "transactions_id is approximately normally distributed. Consider extreme value analysis.\n"
     ]
    },
    {
     "name": "stderr",
     "output_type": "stream",
     "text": [
      "c:\\Users\\user\\anaconda3\\Lib\\site-packages\\seaborn\\_oldcore.py:1119: FutureWarning: use_inf_as_na option is deprecated and will be removed in a future version. Convert inf values to NaN before operating instead.\n",
      "  with pd.option_context('mode.use_inf_as_na', True):\n"
     ]
    },
    {
     "data": {
      "image/png": "[encoded data removed]",
      "text/plain": [
       "<Figure size 1000x500 with 1 Axes>"
      ]
     },
     "metadata": {},
     "output_type": "display_data"
    },
    {
     "name": "stdout",
     "output_type": "stream",
     "text": [
      "customer_id is approximately normally distributed. Consider extreme value analysis.\n"
     ]
    },
    {
     "name": "stderr",
     "output_type": "stream",
     "text": [
      "c:\\Users\\user\\anaconda3\\Lib\\site-packages\\seaborn\\_oldcore.py:1119: FutureWarning: use_inf_as_na option is deprecated and will be removed in a future version. Convert inf values to NaN before operating instead.\n",
      "  with pd.option_context('mode.use_inf_as_na', True):\n"
     ]
    },
    {
     "data": {
      "image/png": "[encoded data removed]",
      "text/plain": [
       "<Figure size 1000x500 with 1 Axes>"
      ]
     },
     "metadata": {},
     "output_type": "display_data"
    },
    {
     "name": "stdout",
     "output_type": "stream",
     "text": [
      "age is approximately normally distributed. Consider extreme value analysis.\n"
     ]
    },
    {
     "name": "stderr",
     "output_type": "stream",
     "text": [
      "c:\\Users\\user\\anaconda3\\Lib\\site-packages\\seaborn\\_oldcore.py:1119: FutureWarning: use_inf_as_na option is deprecated and will be removed in a future version. Convert inf values to NaN before operating instead.\n",
      "  with pd.option_context('mode.use_inf_as_na', True):\n"
     ]
    },
    {
     "data": {
      "image/png": "[encoded data removed]",
      "text/plain": [
       "<Figure size 1000x500 with 1 Axes>"
      ]
     },
     "metadata": {},
     "output_type": "display_data"
    },
    {
     "name": "stdout",
     "output_type": "stream",
     "text": [
      "quantiy is approximately normally distributed. Consider extreme value analysis.\n"
     ]
    },
    {
     "name": "stderr",
     "output_type": "stream",
     "text": [
      "c:\\Users\\user\\anaconda3\\Lib\\site-packages\\seaborn\\_oldcore.py:1119: FutureWarning: use_inf_as_na option is deprecated and will be removed in a future version. Convert inf values to NaN before operating instead.\n",
      "  with pd.option_context('mode.use_inf_as_na', True):\n"
     ]
    },
    {
     "data": {
      "image/png": "[encoded data removed]",
      "text/plain": [
       "<Figure size 1000x500 with 1 Axes>"
      ]
     },
     "metadata": {},
     "output_type": "display_data"
    },
    {
     "name": "stdout",
     "output_type": "stream",
     "text": [
      "price_per_unit is skewed. Consider using IQR for outlier detection.\n"
     ]
    },
    {
     "name": "stderr",
     "output_type": "stream",
     "text": [
      "c:\\Users\\user\\anaconda3\\Lib\\site-packages\\seaborn\\_oldcore.py:1119: FutureWarning: use_inf_as_na option is deprecated and will be removed in a future version. Convert inf values to NaN before operating instead.\n",
      "  with pd.option_context('mode.use_inf_as_na', True):\n"
     ]
    },
    {
     "data": {
      "image/png": "[encoded data removed]",
      "text/plain": [
       "<Figure size 1000x500 with 1 Axes>"
      ]
     },
     "metadata": {},
     "output_type": "display_data"
    },
    {
     "name": "stdout",
     "output_type": "stream",
     "text": [
      "cogs is skewed. Consider using IQR for outlier detection.\n"
     ]
    },
    {
     "name": "stderr",
     "output_type": "stream",
     "text": [
      "c:\\Users\\user\\anaconda3\\Lib\\site-packages\\seaborn\\_oldcore.py:1119: FutureWarning: use_inf_as_na option is deprecated and will be removed in a future version. Convert inf values to NaN before operating instead.\n",
      "  with pd.option_context('mode.use_inf_as_na', True):\n"
     ]
    },
    {
     "data": {
      "image/png": "[encoded data removed]",
      "text/plain": [
       "<Figure size 1000x500 with 1 Axes>"
      ]
     },
     "metadata": {},
     "output_type": "display_data"
    },
    {
     "name": "stdout",
     "output_type": "stream",
     "text": [
      "total_sale is skewed. Consider using IQR for outlier detection.\n"
     ]
    }
   ],
   "source": [
    "analyzer = DistributionAnalyzer(df_numerical)\n",
    "analyzer.check_distributions()"
   ]
  },
  {
   "cell_type": "markdown",
   "metadata": {},
   "source": [
    "### Handling Normal outliers"
   ]
  },
  {
   "cell_type": "code",
   "execution_count": 285,
   "metadata": {},
   "outputs": [
    {
     "name": "stdout",
     "output_type": "stream",
     "text": [
      "quantiy has 0 outliers.\n",
      "age has 0 outliers.\n",
      "customer_id has 0 outliers.\n",
      "transactions_id has 0 outliers.\n"
     ]
    }
   ],
   "source": [
    "from scipy.stats import zscore\n",
    "\n",
    "def handle_normal_outliers(df, columns):\n",
    "    for column in columns:\n",
    "        df[f'{column}_zscore'] = zscore(df[column])\n",
    "        outliers = df[(df[f'{column}_zscore'] > 3) | (df[f'{column}_zscore'] < -3)]\n",
    "        print(f'{column} has {len(outliers)} outliers.')\n",
    "\n",
    "        # Optionally remove or cap outliers\n",
    "        # df = df[(df[f'{column}_zscore'] <= 3) & (df[f'{column}_zscore'] >= -3)]\n",
    "        # Alternatively, cap outliers:\n",
    "        # df[column] = df[column].clip(lower=df[column].quantile(0.01), upper=df[column].quantile(0.99))\n",
    "\n",
    "    return df.drop([f'{column}_zscore' for column in columns], axis=1)\n",
    "\n",
    "normal_columns = [\n",
    "    'quantiy', 'age', 'customer_id', 'transactions_id']\n",
    "\n",
    "df_numerical = handle_normal_outliers(df_numerical, normal_columns)\n"
   ]
  },
  {
   "cell_type": "markdown",
   "metadata": {},
   "source": [
    "### Handling Skewed Outliers"
   ]
  },
  {
   "cell_type": "code",
   "execution_count": 286,
   "metadata": {},
   "outputs": [
    {
     "name": "stdout",
     "output_type": "stream",
     "text": [
      "total_sale has 0 outliers.\n",
      "cogs has 87 outliers.\n",
      "price_per_unit has 0 outliers.\n"
     ]
    }
   ],
   "source": [
    "def handle_skewed_outliers(df, columns):\n",
    "    for column in columns:\n",
    "        Q1 = df[column].quantile(0.25)\n",
    "        Q3 = df[column].quantile(0.75)\n",
    "        IQR = Q3 - Q1\n",
    "        outliers = df[(df[column] < (Q1 - 1.5 * IQR)) | (df[column] > (Q3 + 1.5 * IQR))]\n",
    "        print(f'{column} has {len(outliers)} outliers.')\n",
    "\n",
    "        # Optionally remove or cap outliers\n",
    "        # df = df[~((df[column] < (Q1 - 1.5 * IQR)) | (df[column] > (Q3 + 1.5 * IQR)))]\n",
    "        # Alternatively, cap outliers:\n",
    "        # df[column] = df[column].clip(lower=(Q1 - 1.5 * IQR), upper=(Q3 + 1.5 * IQR))\n",
    "\n",
    "    return df\n",
    "\n",
    "skewed_columns = ['total_sale', 'cogs', 'price_per_unit']\n",
    "\n",
    "df_numerical = handle_skewed_outliers(df_numerical, skewed_columns)\n"
   ]
  },
  {
   "cell_type": "code",
   "execution_count": 287,
   "metadata": {},
   "outputs": [
    {
     "name": "stdout",
     "output_type": "stream",
     "text": [
      "total_sale outliers are values < -2460.0 or > 3420.0\n",
      "cogs outliers are values < -389.0 or > 549.0\n",
      "price_per_unit outliers are values < -780.0 or > 1110.0\n"
     ]
    }
   ],
   "source": [
    "class OutlierDetector:\n",
    "    def __init__(self, dataframe):\n",
    "        self.dataframe = dataframe\n",
    "\n",
    "    def find_outliers_iqr(self, column):\n",
    "        IQR = self.dataframe[column].quantile(0.75) - self.dataframe[column].quantile(0.25)\n",
    "        lower_fence = self.dataframe[column].quantile(0.25) - (IQR * 3)\n",
    "        upper_fence = self.dataframe[column].quantile(0.75) + (IQR * 3)\n",
    "        print(f'{column} outliers are values < {lower_fence} or > {upper_fence}')\n",
    "        return lower_fence, upper_fence\n",
    "\n",
    "# Example Usage\n",
    "outlier_detector = OutlierDetector(df_numerical)\n",
    "\n",
    "# Replace 'column_name' with your actual column name\n",
    "for column in skewed_columns:\n",
    "    outlier_detector.find_outliers_iqr(column)\n"
   ]
  },
  {
   "cell_type": "code",
   "execution_count": 288,
   "metadata": {},
   "outputs": [],
   "source": [
    "# Concatenating along the columns (axis=1)\n",
    "merged_df = pd.concat([df_numerical, merged_df], axis=1)\n"
   ]
  },
  {
   "cell_type": "code",
   "execution_count": 289,
   "metadata": {},
   "outputs": [
    {
     "data": {
      "text/html": [
       "<div>\n",
       "<style scoped>\n",
       "    .dataframe tbody tr th:only-of-type {\n",
       "        vertical-align: middle;\n",
       "    }\n",
       "\n",
       "    .dataframe tbody tr th {\n",
       "        vertical-align: top;\n",
       "    }\n",
       "\n",
       "    .dataframe thead th {\n",
       "        text-align: right;\n",
       "    }\n",
       "</style>\n",
       "<table border=\"1\" class=\"dataframe\">\n",
       "  <thead>\n",
       "    <tr style=\"text-align: right;\">\n",
       "      <th></th>\n",
       "      <th>transactions_id</th>\n",
       "      <th>customer_id</th>\n",
       "      <th>age</th>\n",
       "      <th>quantiy</th>\n",
       "      <th>price_per_unit</th>\n",
       "      <th>cogs</th>\n",
       "      <th>total_sale</th>\n",
       "      <th>sale_date</th>\n",
       "      <th>month_year</th>\n",
       "      <th>hour</th>\n",
       "      <th>gender_Female</th>\n",
       "      <th>gender_Male</th>\n",
       "      <th>category_Beauty</th>\n",
       "      <th>category_Clothing</th>\n",
       "      <th>category_Electronics</th>\n",
       "    </tr>\n",
       "  </thead>\n",
       "  <tbody>\n",
       "    <tr>\n",
       "      <th>0</th>\n",
       "      <td>180</td>\n",
       "      <td>117</td>\n",
       "      <td>41.0</td>\n",
       "      <td>3.0</td>\n",
       "      <td>300.0</td>\n",
       "      <td>129.0</td>\n",
       "      <td>900.0</td>\n",
       "      <td>2022-11-05</td>\n",
       "      <td>2022-11</td>\n",
       "      <td>10</td>\n",
       "      <td>0</td>\n",
       "      <td>1</td>\n",
       "      <td>0</td>\n",
       "      <td>1</td>\n",
       "      <td>0</td>\n",
       "    </tr>\n",
       "    <tr>\n",
       "      <th>1</th>\n",
       "      <td>522</td>\n",
       "      <td>52</td>\n",
       "      <td>46.0</td>\n",
       "      <td>3.0</td>\n",
       "      <td>500.0</td>\n",
       "      <td>145.0</td>\n",
       "      <td>1500.0</td>\n",
       "      <td>2022-07-09</td>\n",
       "      <td>2022-07</td>\n",
       "      <td>11</td>\n",
       "      <td>0</td>\n",
       "      <td>1</td>\n",
       "      <td>1</td>\n",
       "      <td>0</td>\n",
       "      <td>0</td>\n",
       "    </tr>\n",
       "    <tr>\n",
       "      <th>2</th>\n",
       "      <td>559</td>\n",
       "      <td>5</td>\n",
       "      <td>40.0</td>\n",
       "      <td>4.0</td>\n",
       "      <td>300.0</td>\n",
       "      <td>84.0</td>\n",
       "      <td>1200.0</td>\n",
       "      <td>2022-12-12</td>\n",
       "      <td>2022-12</td>\n",
       "      <td>10</td>\n",
       "      <td>1</td>\n",
       "      <td>0</td>\n",
       "      <td>0</td>\n",
       "      <td>1</td>\n",
       "      <td>0</td>\n",
       "    </tr>\n",
       "    <tr>\n",
       "      <th>3</th>\n",
       "      <td>1180</td>\n",
       "      <td>85</td>\n",
       "      <td>41.0</td>\n",
       "      <td>3.0</td>\n",
       "      <td>300.0</td>\n",
       "      <td>129.0</td>\n",
       "      <td>900.0</td>\n",
       "      <td>2022-01-06</td>\n",
       "      <td>2022-01</td>\n",
       "      <td>8</td>\n",
       "      <td>0</td>\n",
       "      <td>1</td>\n",
       "      <td>0</td>\n",
       "      <td>1</td>\n",
       "      <td>0</td>\n",
       "    </tr>\n",
       "    <tr>\n",
       "      <th>4</th>\n",
       "      <td>1522</td>\n",
       "      <td>48</td>\n",
       "      <td>46.0</td>\n",
       "      <td>3.0</td>\n",
       "      <td>500.0</td>\n",
       "      <td>235.0</td>\n",
       "      <td>1500.0</td>\n",
       "      <td>2022-11-14</td>\n",
       "      <td>2022-11</td>\n",
       "      <td>8</td>\n",
       "      <td>0</td>\n",
       "      <td>1</td>\n",
       "      <td>1</td>\n",
       "      <td>0</td>\n",
       "      <td>0</td>\n",
       "    </tr>\n",
       "  </tbody>\n",
       "</table>\n",
       "</div>"
      ],
      "text/plain": [
       "   transactions_id  customer_id   age  quantiy  price_per_unit   cogs  \\\n",
       "0              180          117  41.0      3.0           300.0  129.0   \n",
       "1              522           52  46.0      3.0           500.0  145.0   \n",
       "2              559            5  40.0      4.0           300.0   84.0   \n",
       "3             1180           85  41.0      3.0           300.0  129.0   \n",
       "4             1522           48  46.0      3.0           500.0  235.0   \n",
       "\n",
       "   total_sale  sale_date month_year  hour  gender_Female  gender_Male  \\\n",
       "0       900.0 2022-11-05    2022-11    10              0            1   \n",
       "1      1500.0 2022-07-09    2022-07    11              0            1   \n",
       "2      1200.0 2022-12-12    2022-12    10              1            0   \n",
       "3       900.0 2022-01-06    2022-01     8              0            1   \n",
       "4      1500.0 2022-11-14    2022-11     8              0            1   \n",
       "\n",
       "   category_Beauty  category_Clothing  category_Electronics  \n",
       "0                0                  1                     0  \n",
       "1                1                  0                     0  \n",
       "2                0                  1                     0  \n",
       "3                0                  1                     0  \n",
       "4                1                  0                     0  "
      ]
     },
     "execution_count": 289,
     "metadata": {},
     "output_type": "execute_result"
    }
   ],
   "source": [
    "merged_df.head()"
   ]
  },
  {
   "cell_type": "code",
   "execution_count": 290,
   "metadata": {},
   "outputs": [
    {
     "data": {
      "text/plain": [
       "transactions_id\n",
       "180     1\n",
       "751     1\n",
       "1637    1\n",
       "1594    1\n",
       "1200    1\n",
       "       ..\n",
       "1974    1\n",
       "1749    1\n",
       "1646    1\n",
       "1357    1\n",
       "1650    1\n",
       "Name: count, Length: 2000, dtype: int64"
      ]
     },
     "execution_count": 290,
     "metadata": {},
     "output_type": "execute_result"
    }
   ],
   "source": [
    "merged_df['transactions_id'].value_counts()"
   ]
  },
  {
   "cell_type": "code",
   "execution_count": 291,
   "metadata": {},
   "outputs": [
    {
     "data": {
      "text/plain": [
       "customer_id\n",
       "3      76\n",
       "1      76\n",
       "4      73\n",
       "2      69\n",
       "5      63\n",
       "       ..\n",
       "36      3\n",
       "34      3\n",
       "45      3\n",
       "128     2\n",
       "123     2\n",
       "Name: count, Length: 155, dtype: int64"
      ]
     },
     "execution_count": 291,
     "metadata": {},
     "output_type": "execute_result"
    }
   ],
   "source": [
    "merged_df['customer_id'].value_counts()"
   ]
  },
  {
   "cell_type": "code",
   "execution_count": 292,
   "metadata": {},
   "outputs": [],
   "source": [
    "merged_df.drop('month_year', axis=1, inplace=True)"
   ]
  },
  {
   "cell_type": "code",
   "execution_count": 293,
   "metadata": {},
   "outputs": [],
   "source": [
    "merged_df.drop('transactions_id', axis=1, inplace=True)"
   ]
  },
  {
   "cell_type": "code",
   "execution_count": 294,
   "metadata": {},
   "outputs": [],
   "source": [
    "merged_df.drop('sale_date', axis=1, inplace=True)"
   ]
  },
  {
   "cell_type": "markdown",
   "metadata": {},
   "source": [
    "### Declare Feature Vector and target Variable"
   ]
  },
  {
   "cell_type": "code",
   "execution_count": 295,
   "metadata": {},
   "outputs": [],
   "source": [
    "X = merged_df.drop('total_sale', axis=1)\n",
    "y = merged_df['total_sale']\n"
   ]
  },
  {
   "cell_type": "code",
   "execution_count": 296,
   "metadata": {},
   "outputs": [
    {
     "data": {
      "text/plain": [
       "total_sale\n",
       "50.000000      230\n",
       "100.000000     215\n",
       "900.000000     124\n",
       "200.000000     124\n",
       "1200.000000    108\n",
       "25.000000      102\n",
       "30.000000      102\n",
       "500.000000     102\n",
       "1500.000000    100\n",
       "2000.000000     98\n",
       "1000.000000     98\n",
       "300.000000      92\n",
       "60.000000       90\n",
       "75.000000       86\n",
       "90.000000       86\n",
       "120.000000      86\n",
       "150.000000      84\n",
       "600.000000      70\n",
       "456.544817       3\n",
       "Name: count, dtype: int64"
      ]
     },
     "execution_count": 296,
     "metadata": {},
     "output_type": "execute_result"
    }
   ],
   "source": [
    "merged_df['total_sale'].value_counts()"
   ]
  },
  {
   "cell_type": "markdown",
   "metadata": {},
   "source": [
    "### Split data into separate training and test set"
   ]
  },
  {
   "cell_type": "code",
   "execution_count": 297,
   "metadata": {},
   "outputs": [],
   "source": [
    "# split X and y into training and testing sets\n",
    "\n",
    "from sklearn.model_selection import train_test_split\n",
    "\n",
    "X_train, X_test, y_train, y_test = train_test_split(X, y, test_size = 0.2, random_state = 0)"
   ]
  },
  {
   "cell_type": "code",
   "execution_count": 298,
   "metadata": {},
   "outputs": [
    {
     "data": {
      "text/plain": [
       "((1600, 11), (400, 11))"
      ]
     },
     "execution_count": 298,
     "metadata": {},
     "output_type": "execute_result"
    }
   ],
   "source": [
    "# check the shape of X_train and X_test\n",
    "\n",
    "X_train.shape, X_test.shape"
   ]
  },
  {
   "cell_type": "markdown",
   "metadata": {},
   "source": [
    "## Feature Engineering"
   ]
  },
  {
   "cell_type": "code",
   "execution_count": 304,
   "metadata": {},
   "outputs": [
    {
     "data": {
      "text/plain": [
       "customer_id               int64\n",
       "age                     float64\n",
       "quantiy                 float64\n",
       "price_per_unit          float64\n",
       "cogs                    float64\n",
       "hour                      int32\n",
       "gender_Female             int32\n",
       "gender_Male               int32\n",
       "category_Beauty           int32\n",
       "category_Clothing         int32\n",
       "category_Electronics      int32\n",
       "dtype: object"
      ]
     },
     "execution_count": 304,
     "metadata": {},
     "output_type": "execute_result"
    }
   ],
   "source": [
    "# check data types in X_train\n",
    "\n",
    "X_train.dtypes"
   ]
  },
  {
   "cell_type": "code",
   "execution_count": 305,
   "metadata": {},
   "outputs": [
    {
     "data": {
      "text/plain": [
       "customer_id               int64\n",
       "age                     float64\n",
       "quantiy                 float64\n",
       "price_per_unit          float64\n",
       "cogs                    float64\n",
       "hour                      int32\n",
       "gender_Female             int32\n",
       "gender_Male               int32\n",
       "category_Beauty           int32\n",
       "category_Clothing         int32\n",
       "category_Electronics      int32\n",
       "dtype: object"
      ]
     },
     "execution_count": 305,
     "metadata": {},
     "output_type": "execute_result"
    }
   ],
   "source": [
    "X_test.dtypes"
   ]
  },
  {
   "cell_type": "code",
   "execution_count": 300,
   "metadata": {},
   "outputs": [
    {
     "data": {
      "text/html": [
       "<div>\n",
       "<style scoped>\n",
       "    .dataframe tbody tr th:only-of-type {\n",
       "        vertical-align: middle;\n",
       "    }\n",
       "\n",
       "    .dataframe tbody tr th {\n",
       "        vertical-align: top;\n",
       "    }\n",
       "\n",
       "    .dataframe thead th {\n",
       "        text-align: right;\n",
       "    }\n",
       "</style>\n",
       "<table border=\"1\" class=\"dataframe\">\n",
       "  <thead>\n",
       "    <tr style=\"text-align: right;\">\n",
       "      <th></th>\n",
       "      <th>customer_id</th>\n",
       "      <th>age</th>\n",
       "      <th>quantiy</th>\n",
       "      <th>price_per_unit</th>\n",
       "      <th>cogs</th>\n",
       "      <th>hour</th>\n",
       "      <th>gender_Female</th>\n",
       "      <th>gender_Male</th>\n",
       "      <th>category_Beauty</th>\n",
       "      <th>category_Clothing</th>\n",
       "      <th>category_Electronics</th>\n",
       "    </tr>\n",
       "  </thead>\n",
       "  <tbody>\n",
       "    <tr>\n",
       "      <th>0</th>\n",
       "      <td>117</td>\n",
       "      <td>41.0</td>\n",
       "      <td>3.0</td>\n",
       "      <td>300.0</td>\n",
       "      <td>129.0</td>\n",
       "      <td>10</td>\n",
       "      <td>0</td>\n",
       "      <td>1</td>\n",
       "      <td>0</td>\n",
       "      <td>1</td>\n",
       "      <td>0</td>\n",
       "    </tr>\n",
       "    <tr>\n",
       "      <th>1</th>\n",
       "      <td>52</td>\n",
       "      <td>46.0</td>\n",
       "      <td>3.0</td>\n",
       "      <td>500.0</td>\n",
       "      <td>145.0</td>\n",
       "      <td>11</td>\n",
       "      <td>0</td>\n",
       "      <td>1</td>\n",
       "      <td>1</td>\n",
       "      <td>0</td>\n",
       "      <td>0</td>\n",
       "    </tr>\n",
       "    <tr>\n",
       "      <th>2</th>\n",
       "      <td>5</td>\n",
       "      <td>40.0</td>\n",
       "      <td>4.0</td>\n",
       "      <td>300.0</td>\n",
       "      <td>84.0</td>\n",
       "      <td>10</td>\n",
       "      <td>1</td>\n",
       "      <td>0</td>\n",
       "      <td>0</td>\n",
       "      <td>1</td>\n",
       "      <td>0</td>\n",
       "    </tr>\n",
       "    <tr>\n",
       "      <th>3</th>\n",
       "      <td>85</td>\n",
       "      <td>41.0</td>\n",
       "      <td>3.0</td>\n",
       "      <td>300.0</td>\n",
       "      <td>129.0</td>\n",
       "      <td>8</td>\n",
       "      <td>0</td>\n",
       "      <td>1</td>\n",
       "      <td>0</td>\n",
       "      <td>1</td>\n",
       "      <td>0</td>\n",
       "    </tr>\n",
       "    <tr>\n",
       "      <th>4</th>\n",
       "      <td>48</td>\n",
       "      <td>46.0</td>\n",
       "      <td>3.0</td>\n",
       "      <td>500.0</td>\n",
       "      <td>235.0</td>\n",
       "      <td>8</td>\n",
       "      <td>0</td>\n",
       "      <td>1</td>\n",
       "      <td>1</td>\n",
       "      <td>0</td>\n",
       "      <td>0</td>\n",
       "    </tr>\n",
       "    <tr>\n",
       "      <th>...</th>\n",
       "      <td>...</td>\n",
       "      <td>...</td>\n",
       "      <td>...</td>\n",
       "      <td>...</td>\n",
       "      <td>...</td>\n",
       "      <td>...</td>\n",
       "      <td>...</td>\n",
       "      <td>...</td>\n",
       "      <td>...</td>\n",
       "      <td>...</td>\n",
       "      <td>...</td>\n",
       "    </tr>\n",
       "    <tr>\n",
       "      <th>1995</th>\n",
       "      <td>109</td>\n",
       "      <td>60.0</td>\n",
       "      <td>2.0</td>\n",
       "      <td>25.0</td>\n",
       "      <td>7.5</td>\n",
       "      <td>12</td>\n",
       "      <td>0</td>\n",
       "      <td>1</td>\n",
       "      <td>0</td>\n",
       "      <td>0</td>\n",
       "      <td>1</td>\n",
       "    </tr>\n",
       "    <tr>\n",
       "      <th>1996</th>\n",
       "      <td>54</td>\n",
       "      <td>42.0</td>\n",
       "      <td>3.0</td>\n",
       "      <td>500.0</td>\n",
       "      <td>235.0</td>\n",
       "      <td>14</td>\n",
       "      <td>0</td>\n",
       "      <td>1</td>\n",
       "      <td>1</td>\n",
       "      <td>0</td>\n",
       "      <td>0</td>\n",
       "    </tr>\n",
       "    <tr>\n",
       "      <th>1997</th>\n",
       "      <td>98</td>\n",
       "      <td>55.0</td>\n",
       "      <td>1.0</td>\n",
       "      <td>30.0</td>\n",
       "      <td>15.0</td>\n",
       "      <td>12</td>\n",
       "      <td>0</td>\n",
       "      <td>1</td>\n",
       "      <td>0</td>\n",
       "      <td>0</td>\n",
       "      <td>1</td>\n",
       "    </tr>\n",
       "    <tr>\n",
       "      <th>1998</th>\n",
       "      <td>82</td>\n",
       "      <td>42.0</td>\n",
       "      <td>3.0</td>\n",
       "      <td>500.0</td>\n",
       "      <td>235.0</td>\n",
       "      <td>14</td>\n",
       "      <td>0</td>\n",
       "      <td>1</td>\n",
       "      <td>1</td>\n",
       "      <td>0</td>\n",
       "      <td>0</td>\n",
       "    </tr>\n",
       "    <tr>\n",
       "      <th>1999</th>\n",
       "      <td>89</td>\n",
       "      <td>55.0</td>\n",
       "      <td>1.0</td>\n",
       "      <td>30.0</td>\n",
       "      <td>10.8</td>\n",
       "      <td>16</td>\n",
       "      <td>0</td>\n",
       "      <td>1</td>\n",
       "      <td>0</td>\n",
       "      <td>0</td>\n",
       "      <td>1</td>\n",
       "    </tr>\n",
       "  </tbody>\n",
       "</table>\n",
       "<p>2000 rows × 11 columns</p>\n",
       "</div>"
      ],
      "text/plain": [
       "      customer_id   age  quantiy  price_per_unit   cogs  hour  gender_Female  \\\n",
       "0             117  41.0      3.0           300.0  129.0    10              0   \n",
       "1              52  46.0      3.0           500.0  145.0    11              0   \n",
       "2               5  40.0      4.0           300.0   84.0    10              1   \n",
       "3              85  41.0      3.0           300.0  129.0     8              0   \n",
       "4              48  46.0      3.0           500.0  235.0     8              0   \n",
       "...           ...   ...      ...             ...    ...   ...            ...   \n",
       "1995          109  60.0      2.0            25.0    7.5    12              0   \n",
       "1996           54  42.0      3.0           500.0  235.0    14              0   \n",
       "1997           98  55.0      1.0            30.0   15.0    12              0   \n",
       "1998           82  42.0      3.0           500.0  235.0    14              0   \n",
       "1999           89  55.0      1.0            30.0   10.8    16              0   \n",
       "\n",
       "      gender_Male  category_Beauty  category_Clothing  category_Electronics  \n",
       "0               1                0                  1                     0  \n",
       "1               1                1                  0                     0  \n",
       "2               0                0                  1                     0  \n",
       "3               1                0                  1                     0  \n",
       "4               1                1                  0                     0  \n",
       "...           ...              ...                ...                   ...  \n",
       "1995            1                0                  0                     1  \n",
       "1996            1                1                  0                     0  \n",
       "1997            1                0                  0                     1  \n",
       "1998            1                1                  0                     0  \n",
       "1999            1                0                  0                     1  \n",
       "\n",
       "[2000 rows x 11 columns]"
      ]
     },
     "execution_count": 300,
     "metadata": {},
     "output_type": "execute_result"
    }
   ],
   "source": [
    "X"
   ]
  },
  {
   "cell_type": "markdown",
   "metadata": {},
   "source": [
    "### Feature Scaling"
   ]
  },
  {
   "cell_type": "code",
   "execution_count": 301,
   "metadata": {},
   "outputs": [
    {
     "name": "stdout",
     "output_type": "stream",
     "text": [
      "   customer_id       age   quantiy  price_per_unit      cogs      hour  \\\n",
      "0    -1.459339  1.215128  0.427870       -0.821820 -0.723416  0.782002   \n",
      "1    -0.116016  1.654607 -1.329746       -0.821820 -0.680855 -0.978879   \n",
      "2     0.958643 -0.323052 -1.329746       -0.689997 -0.599785  0.195042   \n",
      "3     0.466091  0.116428  1.306678        1.682824  0.600046 -1.761492   \n",
      "4    -1.369784  1.581361  0.427870       -0.821820 -0.715309  1.173309   \n",
      "\n",
      "   gender_Female  gender_Male  category_Beauty  category_Clothing  \\\n",
      "0       0.974086    -0.974086        -0.663434           1.333333   \n",
      "1       0.974086    -0.974086        -0.663434           1.333333   \n",
      "2       0.974086    -0.974086        -0.663434           1.333333   \n",
      "3      -1.026604     1.026604        -0.663434          -0.750000   \n",
      "4      -1.026604     1.026604        -0.663434          -0.750000   \n",
      "\n",
      "   category_Electronics  \n",
      "0             -0.708765  \n",
      "1             -0.708765  \n",
      "2             -0.708765  \n",
      "3              1.410905  \n",
      "4              1.410905  \n"
     ]
    }
   ],
   "source": [
    "from sklearn.preprocessing import StandardScaler\n",
    "\n",
    "# Initialize the StandardScaler\n",
    "scaler = StandardScaler()\n",
    "\n",
    "# Fit the scaler on the training data and transform\n",
    "X_train_scaled = scaler.fit_transform(X_train)\n",
    "\n",
    "# Transform the test data\n",
    "X_test_scaled = scaler.transform(X_test)\n",
    "\n",
    "# Convert back to DataFrame if needed\n",
    "\n",
    "\n",
    "X_train_scaled = pd.DataFrame(X_train_scaled, columns=X_train.columns)\n",
    "X_test_scaled = pd.DataFrame(X_test_scaled, columns=X_test.columns)\n",
    "\n",
    "# Check the scaled data\n",
    "print(X_train_scaled.head())\n"
   ]
  },
  {
   "cell_type": "code",
   "execution_count": 303,
   "metadata": {},
   "outputs": [
    {
     "name": "stdout",
     "output_type": "stream",
     "text": [
      "Mean Squared Error (MSE): 0.0\n",
      "R² Score: 1.0\n"
     ]
    }
   ],
   "source": [
    "from sklearn.tree import DecisionTreeRegressor\n",
    "from sklearn.metrics import mean_squared_error, r2_score\n",
    "\n",
    "# Initialize and train the model\n",
    "decision_tree = DecisionTreeRegressor(random_state=42)\n",
    "decision_tree.fit(X_train, y_train)\n",
    "\n",
    "# Predict\n",
    "y_pred_dec_tree = decision_tree.predict(X_test)\n",
    "\n",
    "# Evaluate using regression metrics\n",
    "print(\"Mean Squared Error (MSE):\", mean_squared_error(y_test, y_pred_dec_tree))\n",
    "print(\"R² Score:\", r2_score(y_test, y_pred_dec_tree))\n"
   ]
  },
  {
   "cell_type": "code",
   "execution_count": null,
   "metadata": {},
   "outputs": [],
   "source": []
  }
 ],
 "metadata": {
  "kernelspec": {
   "display_name": "Python (learn-env)",
   "language": "python",
   "name": "learn-env"
  },
  "language_info": {
   "codemirror_mode": {
    "name": "ipython",
    "version": 3
   },
   "file_extension": ".py",
   "mimetype": "text/x-python",
   "name": "python",
   "nbconvert_exporter": "python",
   "pygments_lexer": "ipython3",
   "version": "3.11.7"
  }
 },
 "nbformat": 4,
 "nbformat_minor": 2
}
